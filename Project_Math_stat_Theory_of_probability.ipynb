{
 "cells": [
  {
   "cell_type": "markdown",
   "metadata": {},
   "source": [
    "## Проектная работа по курсу \"Теория вероятностей и математическая статистика\"\n",
    "\n",
    "#### Автор: \n",
    "Хусаинов Ильдар\n",
    "\n",
    "#### Материалы к проекту:\n",
    "Набор датасетов с сайта IMDB:\n",
    "* name.basics.tsv;\n",
    "* title.basics.tsv;\n",
    "* title.ratings.tsv.\n",
    "\n",
    "Датасет с сайта Kaggle.com:\n",
    "* movie_metadata.csv.\n",
    "\n",
    "#### Тема: \n",
    "1. Проверить гипотезу: Научно-фантастические фильмы, снятые до 2000 года, в среднем имеют более высокую оценку, чем научно-фантастические фильмы снятые позже. Рассчитать основные статистические показатели по рейтингу научно-фантастических фильмов: мода, медиана, квартили, дисперсию. \n",
    "2. Предсказать: \n",
    "    1. прибыль в зависимости от бюджета по научно-фантастическим фильмам;\n",
    "    2. оценку в зависимости от режиссера."
   ]
  },
  {
   "cell_type": "code",
   "execution_count": 1,
   "metadata": {},
   "outputs": [],
   "source": [
    "import numpy as np\n",
    "import pandas as pd\n",
    "from matplotlib import pyplot as plt"
   ]
  },
  {
   "cell_type": "code",
   "execution_count": 2,
   "metadata": {},
   "outputs": [],
   "source": [
    "actors = pd.read_csv('input/name.basics.tsv', sep='\\t')"
   ]
  },
  {
   "cell_type": "code",
   "execution_count": 3,
   "metadata": {},
   "outputs": [],
   "source": [
    "basics = pd.read_csv('input/title.basics.tsv', sep='\\t')"
   ]
  },
  {
   "cell_type": "code",
   "execution_count": 4,
   "metadata": {},
   "outputs": [],
   "source": [
    "ratings = pd.read_csv('input/title.ratings.tsv', sep='\\t')"
   ]
  },
  {
   "cell_type": "markdown",
   "metadata": {},
   "source": [
    "Проверим датасеты:"
   ]
  },
  {
   "cell_type": "code",
   "execution_count": 5,
   "metadata": {},
   "outputs": [
    {
     "data": {
      "text/html": [
       "<div>\n",
       "<style scoped>\n",
       "    .dataframe tbody tr th:only-of-type {\n",
       "        vertical-align: middle;\n",
       "    }\n",
       "\n",
       "    .dataframe tbody tr th {\n",
       "        vertical-align: top;\n",
       "    }\n",
       "\n",
       "    .dataframe thead th {\n",
       "        text-align: right;\n",
       "    }\n",
       "</style>\n",
       "<table border=\"1\" class=\"dataframe\">\n",
       "  <thead>\n",
       "    <tr style=\"text-align: right;\">\n",
       "      <th></th>\n",
       "      <th>nconst</th>\n",
       "      <th>primaryName</th>\n",
       "      <th>birthYear</th>\n",
       "      <th>deathYear</th>\n",
       "      <th>primaryProfession</th>\n",
       "      <th>knownForTitles</th>\n",
       "    </tr>\n",
       "  </thead>\n",
       "  <tbody>\n",
       "    <tr>\n",
       "      <th>128</th>\n",
       "      <td>nm0000129</td>\n",
       "      <td>Tom Cruise</td>\n",
       "      <td>1962</td>\n",
       "      <td>\\N</td>\n",
       "      <td>actor,producer,soundtrack</td>\n",
       "      <td>tt0181689,tt0325710,tt0116695,tt0092099</td>\n",
       "    </tr>\n",
       "  </tbody>\n",
       "</table>\n",
       "</div>"
      ],
      "text/plain": [
       "        nconst primaryName birthYear deathYear          primaryProfession  \\\n",
       "128  nm0000129  Tom Cruise      1962        \\N  actor,producer,soundtrack   \n",
       "\n",
       "                              knownForTitles  \n",
       "128  tt0181689,tt0325710,tt0116695,tt0092099  "
      ]
     },
     "execution_count": 5,
     "metadata": {},
     "output_type": "execute_result"
    }
   ],
   "source": [
    "actors.loc[actors['primaryName'] == 'Tom Cruise']"
   ]
  },
  {
   "cell_type": "code",
   "execution_count": 6,
   "metadata": {},
   "outputs": [
    {
     "data": {
      "text/html": [
       "<div>\n",
       "<style scoped>\n",
       "    .dataframe tbody tr th:only-of-type {\n",
       "        vertical-align: middle;\n",
       "    }\n",
       "\n",
       "    .dataframe tbody tr th {\n",
       "        vertical-align: top;\n",
       "    }\n",
       "\n",
       "    .dataframe thead th {\n",
       "        text-align: right;\n",
       "    }\n",
       "</style>\n",
       "<table border=\"1\" class=\"dataframe\">\n",
       "  <thead>\n",
       "    <tr style=\"text-align: right;\">\n",
       "      <th></th>\n",
       "      <th>tconst</th>\n",
       "      <th>titleType</th>\n",
       "      <th>primaryTitle</th>\n",
       "      <th>originalTitle</th>\n",
       "      <th>isAdult</th>\n",
       "      <th>startYear</th>\n",
       "      <th>endYear</th>\n",
       "      <th>runtimeMinutes</th>\n",
       "      <th>genres</th>\n",
       "    </tr>\n",
       "  </thead>\n",
       "  <tbody>\n",
       "    <tr>\n",
       "      <th>90118</th>\n",
       "      <td>tt0092099</td>\n",
       "      <td>movie</td>\n",
       "      <td>Top Gun</td>\n",
       "      <td>Top Gun</td>\n",
       "      <td>0</td>\n",
       "      <td>1986</td>\n",
       "      <td>\\N</td>\n",
       "      <td>110</td>\n",
       "      <td>Action,Drama</td>\n",
       "    </tr>\n",
       "    <tr>\n",
       "      <th>114137</th>\n",
       "      <td>tt0116695</td>\n",
       "      <td>movie</td>\n",
       "      <td>Jerry Maguire</td>\n",
       "      <td>Jerry Maguire</td>\n",
       "      <td>0</td>\n",
       "      <td>1996</td>\n",
       "      <td>\\N</td>\n",
       "      <td>139</td>\n",
       "      <td>Comedy,Drama,Romance</td>\n",
       "    </tr>\n",
       "    <tr>\n",
       "      <th>175487</th>\n",
       "      <td>tt0181689</td>\n",
       "      <td>movie</td>\n",
       "      <td>Minority Report</td>\n",
       "      <td>Minority Report</td>\n",
       "      <td>0</td>\n",
       "      <td>2002</td>\n",
       "      <td>\\N</td>\n",
       "      <td>145</td>\n",
       "      <td>Action,Crime,Mystery</td>\n",
       "    </tr>\n",
       "    <tr>\n",
       "      <th>312425</th>\n",
       "      <td>tt0325710</td>\n",
       "      <td>movie</td>\n",
       "      <td>The Last Samurai</td>\n",
       "      <td>The Last Samurai</td>\n",
       "      <td>0</td>\n",
       "      <td>2003</td>\n",
       "      <td>\\N</td>\n",
       "      <td>154</td>\n",
       "      <td>Action,Drama,War</td>\n",
       "    </tr>\n",
       "  </tbody>\n",
       "</table>\n",
       "</div>"
      ],
      "text/plain": [
       "           tconst titleType      primaryTitle     originalTitle  isAdult  \\\n",
       "90118   tt0092099     movie           Top Gun           Top Gun        0   \n",
       "114137  tt0116695     movie     Jerry Maguire     Jerry Maguire        0   \n",
       "175487  tt0181689     movie   Minority Report   Minority Report        0   \n",
       "312425  tt0325710     movie  The Last Samurai  The Last Samurai        0   \n",
       "\n",
       "       startYear endYear runtimeMinutes                genres  \n",
       "90118       1986      \\N            110          Action,Drama  \n",
       "114137      1996      \\N            139  Comedy,Drama,Romance  \n",
       "175487      2002      \\N            145  Action,Crime,Mystery  \n",
       "312425      2003      \\N            154      Action,Drama,War  "
      ]
     },
     "execution_count": 6,
     "metadata": {},
     "output_type": "execute_result"
    }
   ],
   "source": [
    "basics.loc[basics['tconst'].isin(['tt0181689', 'tt0325710', 'tt0116695', 'tt0092099'])]"
   ]
  },
  {
   "cell_type": "code",
   "execution_count": 7,
   "metadata": {},
   "outputs": [
    {
     "data": {
      "text/html": [
       "<div>\n",
       "<style scoped>\n",
       "    .dataframe tbody tr th:only-of-type {\n",
       "        vertical-align: middle;\n",
       "    }\n",
       "\n",
       "    .dataframe tbody tr th {\n",
       "        vertical-align: top;\n",
       "    }\n",
       "\n",
       "    .dataframe thead th {\n",
       "        text-align: right;\n",
       "    }\n",
       "</style>\n",
       "<table border=\"1\" class=\"dataframe\">\n",
       "  <thead>\n",
       "    <tr style=\"text-align: right;\">\n",
       "      <th></th>\n",
       "      <th>tconst</th>\n",
       "      <th>averageRating</th>\n",
       "      <th>numVotes</th>\n",
       "    </tr>\n",
       "  </thead>\n",
       "  <tbody>\n",
       "    <tr>\n",
       "      <th>0</th>\n",
       "      <td>tt0000001</td>\n",
       "      <td>5.8</td>\n",
       "      <td>1503</td>\n",
       "    </tr>\n",
       "    <tr>\n",
       "      <th>1</th>\n",
       "      <td>tt0000002</td>\n",
       "      <td>6.3</td>\n",
       "      <td>183</td>\n",
       "    </tr>\n",
       "    <tr>\n",
       "      <th>2</th>\n",
       "      <td>tt0000003</td>\n",
       "      <td>6.6</td>\n",
       "      <td>1148</td>\n",
       "    </tr>\n",
       "    <tr>\n",
       "      <th>3</th>\n",
       "      <td>tt0000004</td>\n",
       "      <td>6.3</td>\n",
       "      <td>112</td>\n",
       "    </tr>\n",
       "    <tr>\n",
       "      <th>4</th>\n",
       "      <td>tt0000005</td>\n",
       "      <td>6.2</td>\n",
       "      <td>1848</td>\n",
       "    </tr>\n",
       "  </tbody>\n",
       "</table>\n",
       "</div>"
      ],
      "text/plain": [
       "      tconst  averageRating  numVotes\n",
       "0  tt0000001            5.8      1503\n",
       "1  tt0000002            6.3       183\n",
       "2  tt0000003            6.6      1148\n",
       "3  tt0000004            6.3       112\n",
       "4  tt0000005            6.2      1848"
      ]
     },
     "execution_count": 7,
     "metadata": {},
     "output_type": "execute_result"
    }
   ],
   "source": [
    "ratings.head()"
   ]
  },
  {
   "cell_type": "markdown",
   "metadata": {},
   "source": [
    "## 1 часть. \n",
    "\n",
    "### Проверим гипотезу. \n",
    "\n",
    "Соединим два датасета - базовый и с рейтингом:"
   ]
  },
  {
   "cell_type": "code",
   "execution_count": 8,
   "metadata": {},
   "outputs": [
    {
     "name": "stdout",
     "output_type": "stream",
     "text": [
      "<class 'pandas.core.frame.DataFrame'>\n",
      "Index: 937541 entries, tt0000001 to tt9916766\n",
      "Data columns (total 2 columns):\n",
      "averageRating    937541 non-null float64\n",
      "numVotes         937541 non-null int64\n",
      "dtypes: float64(1), int64(1)\n",
      "memory usage: 21.5+ MB\n"
     ]
    }
   ],
   "source": [
    "ratings.set_index('tconst').info()"
   ]
  },
  {
   "cell_type": "code",
   "execution_count": 9,
   "metadata": {},
   "outputs": [],
   "source": [
    "df = basics.join(ratings.set_index('tconst'), on='tconst', how='left')"
   ]
  },
  {
   "cell_type": "code",
   "execution_count": 10,
   "metadata": {},
   "outputs": [
    {
     "data": {
      "text/html": [
       "<div>\n",
       "<style scoped>\n",
       "    .dataframe tbody tr th:only-of-type {\n",
       "        vertical-align: middle;\n",
       "    }\n",
       "\n",
       "    .dataframe tbody tr th {\n",
       "        vertical-align: top;\n",
       "    }\n",
       "\n",
       "    .dataframe thead th {\n",
       "        text-align: right;\n",
       "    }\n",
       "</style>\n",
       "<table border=\"1\" class=\"dataframe\">\n",
       "  <thead>\n",
       "    <tr style=\"text-align: right;\">\n",
       "      <th></th>\n",
       "      <th>tconst</th>\n",
       "      <th>titleType</th>\n",
       "      <th>primaryTitle</th>\n",
       "      <th>originalTitle</th>\n",
       "      <th>isAdult</th>\n",
       "      <th>startYear</th>\n",
       "      <th>endYear</th>\n",
       "      <th>runtimeMinutes</th>\n",
       "      <th>genres</th>\n",
       "      <th>averageRating</th>\n",
       "      <th>numVotes</th>\n",
       "    </tr>\n",
       "  </thead>\n",
       "  <tbody>\n",
       "    <tr>\n",
       "      <th>175487</th>\n",
       "      <td>tt0181689</td>\n",
       "      <td>movie</td>\n",
       "      <td>Minority Report</td>\n",
       "      <td>Minority Report</td>\n",
       "      <td>0</td>\n",
       "      <td>2002</td>\n",
       "      <td>\\N</td>\n",
       "      <td>145</td>\n",
       "      <td>Action,Crime,Mystery</td>\n",
       "      <td>7.6</td>\n",
       "      <td>468591.0</td>\n",
       "    </tr>\n",
       "  </tbody>\n",
       "</table>\n",
       "</div>"
      ],
      "text/plain": [
       "           tconst titleType     primaryTitle    originalTitle  isAdult  \\\n",
       "175487  tt0181689     movie  Minority Report  Minority Report        0   \n",
       "\n",
       "       startYear endYear runtimeMinutes                genres  averageRating  \\\n",
       "175487      2002      \\N            145  Action,Crime,Mystery            7.6   \n",
       "\n",
       "        numVotes  \n",
       "175487  468591.0  "
      ]
     },
     "execution_count": 10,
     "metadata": {},
     "output_type": "execute_result"
    }
   ],
   "source": [
    "df.loc[df['tconst'] == 'tt0181689']"
   ]
  },
  {
   "cell_type": "markdown",
   "metadata": {},
   "source": [
    "Отфильтруем базу по жанру \"Научная-фантастика\", ненулевым значениям рейтинга и типу фильмов:"
   ]
  },
  {
   "cell_type": "code",
   "execution_count": 11,
   "metadata": {},
   "outputs": [],
   "source": [
    "# sf - Sci-Fi\n",
    "sf = df.loc[(df['genres'].str.contains('sci-fi', case=False, regex=False, na=False)) \n",
    "           & (pd.isna(df['averageRating']) != True)\n",
    "           & (df['startYear'] != '\\\\N')\n",
    "           & (df['titleType'].isin(['movie', 'video']))]"
   ]
  },
  {
   "cell_type": "code",
   "execution_count": 12,
   "metadata": {},
   "outputs": [
    {
     "data": {
      "text/html": [
       "<div>\n",
       "<style scoped>\n",
       "    .dataframe tbody tr th:only-of-type {\n",
       "        vertical-align: middle;\n",
       "    }\n",
       "\n",
       "    .dataframe tbody tr th {\n",
       "        vertical-align: top;\n",
       "    }\n",
       "\n",
       "    .dataframe thead th {\n",
       "        text-align: right;\n",
       "    }\n",
       "</style>\n",
       "<table border=\"1\" class=\"dataframe\">\n",
       "  <thead>\n",
       "    <tr style=\"text-align: right;\">\n",
       "      <th></th>\n",
       "      <th>tconst</th>\n",
       "      <th>titleType</th>\n",
       "      <th>primaryTitle</th>\n",
       "      <th>originalTitle</th>\n",
       "      <th>isAdult</th>\n",
       "      <th>startYear</th>\n",
       "      <th>endYear</th>\n",
       "      <th>runtimeMinutes</th>\n",
       "      <th>genres</th>\n",
       "      <th>averageRating</th>\n",
       "      <th>numVotes</th>\n",
       "    </tr>\n",
       "  </thead>\n",
       "  <tbody>\n",
       "    <tr>\n",
       "      <th>5761872</th>\n",
       "      <td>tt9648806</td>\n",
       "      <td>movie</td>\n",
       "      <td>Virtual Vendetta</td>\n",
       "      <td>Virtual Vendetta</td>\n",
       "      <td>0</td>\n",
       "      <td>2019</td>\n",
       "      <td>\\N</td>\n",
       "      <td>\\N</td>\n",
       "      <td>Sci-Fi</td>\n",
       "      <td>7.4</td>\n",
       "      <td>7.0</td>\n",
       "    </tr>\n",
       "    <tr>\n",
       "      <th>5778979</th>\n",
       "      <td>tt9684490</td>\n",
       "      <td>video</td>\n",
       "      <td>Dua Lipa: Swan Song</td>\n",
       "      <td>Dua Lipa: Swan Song</td>\n",
       "      <td>0</td>\n",
       "      <td>2019</td>\n",
       "      <td>\\N</td>\n",
       "      <td>3</td>\n",
       "      <td>Music,Sci-Fi,Short</td>\n",
       "      <td>7.6</td>\n",
       "      <td>21.0</td>\n",
       "    </tr>\n",
       "    <tr>\n",
       "      <th>5855409</th>\n",
       "      <td>tt9844256</td>\n",
       "      <td>movie</td>\n",
       "      <td>Code Geass: Lelouch of the Rebellion - Glorifi...</td>\n",
       "      <td>Code Geass: Lelouch of the Rebellion Episode III</td>\n",
       "      <td>0</td>\n",
       "      <td>2018</td>\n",
       "      <td>\\N</td>\n",
       "      <td>120</td>\n",
       "      <td>Action,Animation,Sci-Fi</td>\n",
       "      <td>7.2</td>\n",
       "      <td>20.0</td>\n",
       "    </tr>\n",
       "    <tr>\n",
       "      <th>5865528</th>\n",
       "      <td>tt9865446</td>\n",
       "      <td>movie</td>\n",
       "      <td>Siege</td>\n",
       "      <td>Siege</td>\n",
       "      <td>0</td>\n",
       "      <td>2019</td>\n",
       "      <td>\\N</td>\n",
       "      <td>16</td>\n",
       "      <td>Sci-Fi,Thriller</td>\n",
       "      <td>9.1</td>\n",
       "      <td>23.0</td>\n",
       "    </tr>\n",
       "    <tr>\n",
       "      <th>5888920</th>\n",
       "      <td>tt9914458</td>\n",
       "      <td>video</td>\n",
       "      <td>Alien Messiah</td>\n",
       "      <td>Alien Messiah</td>\n",
       "      <td>0</td>\n",
       "      <td>2019</td>\n",
       "      <td>\\N</td>\n",
       "      <td>75</td>\n",
       "      <td>Sci-Fi</td>\n",
       "      <td>2.6</td>\n",
       "      <td>33.0</td>\n",
       "    </tr>\n",
       "  </tbody>\n",
       "</table>\n",
       "</div>"
      ],
      "text/plain": [
       "            tconst titleType  \\\n",
       "5761872  tt9648806     movie   \n",
       "5778979  tt9684490     video   \n",
       "5855409  tt9844256     movie   \n",
       "5865528  tt9865446     movie   \n",
       "5888920  tt9914458     video   \n",
       "\n",
       "                                              primaryTitle  \\\n",
       "5761872                                   Virtual Vendetta   \n",
       "5778979                                Dua Lipa: Swan Song   \n",
       "5855409  Code Geass: Lelouch of the Rebellion - Glorifi...   \n",
       "5865528                                              Siege   \n",
       "5888920                                      Alien Messiah   \n",
       "\n",
       "                                            originalTitle  isAdult startYear  \\\n",
       "5761872                                  Virtual Vendetta        0      2019   \n",
       "5778979                               Dua Lipa: Swan Song        0      2019   \n",
       "5855409  Code Geass: Lelouch of the Rebellion Episode III        0      2018   \n",
       "5865528                                             Siege        0      2019   \n",
       "5888920                                     Alien Messiah        0      2019   \n",
       "\n",
       "        endYear runtimeMinutes                   genres  averageRating  \\\n",
       "5761872      \\N             \\N                   Sci-Fi            7.4   \n",
       "5778979      \\N              3       Music,Sci-Fi,Short            7.6   \n",
       "5855409      \\N            120  Action,Animation,Sci-Fi            7.2   \n",
       "5865528      \\N             16          Sci-Fi,Thriller            9.1   \n",
       "5888920      \\N             75                   Sci-Fi            2.6   \n",
       "\n",
       "         numVotes  \n",
       "5761872       7.0  \n",
       "5778979      21.0  \n",
       "5855409      20.0  \n",
       "5865528      23.0  \n",
       "5888920      33.0  "
      ]
     },
     "execution_count": 12,
     "metadata": {},
     "output_type": "execute_result"
    }
   ],
   "source": [
    "sf.tail()"
   ]
  },
  {
   "cell_type": "markdown",
   "metadata": {},
   "source": [
    "Проверим среднюю оценку по жанру \"Научная фантастика\" до 2000 года и после:"
   ]
  },
  {
   "cell_type": "code",
   "execution_count": 13,
   "metadata": {},
   "outputs": [
    {
     "name": "stdout",
     "output_type": "stream",
     "text": [
      "Средняя оценка до 2000 года: 5.3\n",
      "Средняя оценка после 2000 года: 5.59\n"
     ]
    }
   ],
   "source": [
    "year = 2000\n",
    "\n",
    "print(f\"Средняя оценка до 2000 года: {round(sf.loc[sf['startYear'].astype(int) < year]['averageRating'].mean(), 2)}\")\n",
    "print(f\"Средняя оценка после 2000 года: {round(sf.loc[sf['startYear'].astype(int) >= year]['averageRating'].mean(), 2)}\")"
   ]
  },
  {
   "cell_type": "markdown",
   "metadata": {},
   "source": [
    "Попробуем ещё отфильтровать только те фильмы, где оценок больше, чем среднее количество оценок:"
   ]
  },
  {
   "cell_type": "code",
   "execution_count": 14,
   "metadata": {
    "scrolled": true
   },
   "outputs": [
    {
     "data": {
      "text/plain": [
       "14043.273657289003"
      ]
     },
     "execution_count": 14,
     "metadata": {},
     "output_type": "execute_result"
    }
   ],
   "source": [
    "sf['numVotes'].mean()"
   ]
  },
  {
   "cell_type": "markdown",
   "metadata": {},
   "source": [
    "Посмотрим гистограмму распределения оценок:"
   ]
  },
  {
   "cell_type": "code",
   "execution_count": 15,
   "metadata": {},
   "outputs": [
    {
     "data": {
      "image/png": "[encoded data removed]",
      "text/plain": [
       "<Figure size 432x288 with 1 Axes>"
      ]
     },
     "metadata": {
      "needs_background": "light"
     },
     "output_type": "display_data"
    }
   ],
   "source": [
    "sf['numVotes'].hist(bins=80, log=True);"
   ]
  },
  {
   "cell_type": "markdown",
   "metadata": {},
   "source": [
    "Чутка отмасштабируем чтобы более четко рассмотреть область в районе среднего числа:"
   ]
  },
  {
   "cell_type": "code",
   "execution_count": 16,
   "metadata": {},
   "outputs": [
    {
     "data": {
      "image/png": "[encoded data removed]",
      "text/plain": [
       "<Figure size 432x288 with 1 Axes>"
      ]
     },
     "metadata": {
      "needs_background": "light"
     },
     "output_type": "display_data"
    }
   ],
   "source": [
    "sf.loc[sf['numVotes'] < 15000]['numVotes'].hist(bins=80, log=True);"
   ]
  },
  {
   "cell_type": "markdown",
   "metadata": {},
   "source": [
    "Очень много фильмов имеют количество оценок меньше среднего, поэтому для более репрезентативного анализа лучше возьмём среднее в ряде, т.е. медиану:"
   ]
  },
  {
   "cell_type": "code",
   "execution_count": 17,
   "metadata": {},
   "outputs": [
    {
     "data": {
      "text/plain": [
       "140.0"
      ]
     },
     "execution_count": 17,
     "metadata": {},
     "output_type": "execute_result"
    }
   ],
   "source": [
    "sf['numVotes'].median()"
   ]
  },
  {
   "cell_type": "code",
   "execution_count": 18,
   "metadata": {},
   "outputs": [],
   "source": [
    "# проверка гипотезы\n",
    "def hypothy(year, border):\n",
    "    before = round(sf.loc[(sf['startYear'].astype(int) < year) \n",
    "                        & (sf['numVotes'] > border)]['averageRating'].mean(), 3)\n",
    "    after = round(sf.loc[(sf['startYear'].astype(int) >= year) \n",
    "                       & (sf['numVotes'] > border)]['averageRating'].mean(), 3)\n",
    "\n",
    "    print(f\"Средняя оценка до 2000 года: {before}\")\n",
    "    print(f\"Средняя оценка после 2000 года: {after}\")"
   ]
  },
  {
   "cell_type": "code",
   "execution_count": 19,
   "metadata": {},
   "outputs": [
    {
     "name": "stdout",
     "output_type": "stream",
     "text": [
      "Средняя оценка до 2000 года: 5.197\n",
      "Средняя оценка после 2000 года: 5.153\n"
     ]
    }
   ],
   "source": [
    "hypothy(2000, 140)"
   ]
  },
  {
   "cell_type": "markdown",
   "metadata": {},
   "source": [
    "На всякий случай проверим по среднему значению:"
   ]
  },
  {
   "cell_type": "code",
   "execution_count": 20,
   "metadata": {},
   "outputs": [
    {
     "name": "stdout",
     "output_type": "stream",
     "text": [
      "Средняя оценка до 2000 года: 6.63\n",
      "Средняя оценка после 2000 года: 6.354\n"
     ]
    }
   ],
   "source": [
    "hypothy(2000, 14043)"
   ]
  },
  {
   "cell_type": "markdown",
   "metadata": {},
   "source": [
    "Интересное наблюдение получается: если считать среднюю оценку по наиболее популярным и известным фильмам, то гипотеза о том, что `научно-фантастические фильмы, снятые до 2000 года, в среднем имеют более высокую оценку, чем научно-фантастические фильмы снятые позже` подтверждается, а если брать датасет с малоизвестными фильмами, то опровергается. "
   ]
  },
  {
   "cell_type": "markdown",
   "metadata": {},
   "source": [
    "#### Рассчитаем основные статистические показатели по рейтингу Sci-Fi фильмов:"
   ]
  },
  {
   "cell_type": "markdown",
   "metadata": {},
   "source": [
    "Мода:"
   ]
  },
  {
   "cell_type": "code",
   "execution_count": 21,
   "metadata": {},
   "outputs": [
    {
     "data": {
      "text/plain": [
       "0    5.8\n",
       "dtype: float64"
      ]
     },
     "execution_count": 21,
     "metadata": {},
     "output_type": "execute_result"
    }
   ],
   "source": [
    "sf['averageRating'].mode()"
   ]
  },
  {
   "cell_type": "markdown",
   "metadata": {},
   "source": [
    "Среднее арифметическое:"
   ]
  },
  {
   "cell_type": "code",
   "execution_count": 22,
   "metadata": {},
   "outputs": [
    {
     "data": {
      "text/plain": [
       "5.467632850241546"
      ]
     },
     "execution_count": 22,
     "metadata": {},
     "output_type": "execute_result"
    }
   ],
   "source": [
    "sf['averageRating'].mean()"
   ]
  },
  {
   "cell_type": "markdown",
   "metadata": {},
   "source": [
    "Медиана:"
   ]
  },
  {
   "cell_type": "code",
   "execution_count": 23,
   "metadata": {},
   "outputs": [
    {
     "data": {
      "text/plain": [
       "5.6"
      ]
     },
     "execution_count": 23,
     "metadata": {},
     "output_type": "execute_result"
    }
   ],
   "source": [
    "sf['averageRating'].median()"
   ]
  },
  {
   "cell_type": "markdown",
   "metadata": {},
   "source": [
    "Несмещенная дисперсия:"
   ]
  },
  {
   "cell_type": "code",
   "execution_count": 24,
   "metadata": {},
   "outputs": [
    {
     "data": {
      "text/plain": [
       "2.2794467476602502"
      ]
     },
     "execution_count": 24,
     "metadata": {},
     "output_type": "execute_result"
    }
   ],
   "source": [
    "sf['averageRating'].var(ddof=1)"
   ]
  },
  {
   "cell_type": "markdown",
   "metadata": {},
   "source": [
    "Среднеквадратичное отклонение (выборочное)"
   ]
  },
  {
   "cell_type": "code",
   "execution_count": 25,
   "metadata": {},
   "outputs": [
    {
     "data": {
      "text/plain": [
       "1.5097836757828091"
      ]
     },
     "execution_count": 25,
     "metadata": {},
     "output_type": "execute_result"
    }
   ],
   "source": [
    "sf['averageRating'].std(ddof=1)"
   ]
  },
  {
   "cell_type": "markdown",
   "metadata": {},
   "source": [
    "Построим боксплот, чтобы посмотреть распределение по квантилям:"
   ]
  },
  {
   "cell_type": "code",
   "execution_count": 26,
   "metadata": {},
   "outputs": [
    {
     "data": {
      "image/png": "[encoded data removed]",
      "text/plain": [
       "<Figure size 432x288 with 1 Axes>"
      ]
     },
     "metadata": {
      "needs_background": "light"
     },
     "output_type": "display_data"
    }
   ],
   "source": [
    "sf[['averageRating']].boxplot();"
   ]
  },
  {
   "cell_type": "markdown",
   "metadata": {},
   "source": [
    "Построим гистограмму:"
   ]
  },
  {
   "cell_type": "code",
   "execution_count": 27,
   "metadata": {
    "scrolled": true
   },
   "outputs": [
    {
     "data": {
      "image/png": "[encoded data removed]",
      "text/plain": [
       "<Figure size 432x288 with 1 Axes>"
      ]
     },
     "metadata": {
      "needs_background": "light"
     },
     "output_type": "display_data"
    }
   ],
   "source": [
    "sf['averageRating'].hist(bins=30);"
   ]
  },
  {
   "cell_type": "markdown",
   "metadata": {},
   "source": [
    "Рейтинг ожидаемо имеет нормальное распределение."
   ]
  },
  {
   "cell_type": "markdown",
   "metadata": {},
   "source": [
    "Построим средний рейтинг по каждому году производства фильмов:"
   ]
  },
  {
   "cell_type": "code",
   "execution_count": 28,
   "metadata": {},
   "outputs": [
    {
     "data": {
      "text/html": [
       "<div>\n",
       "<style scoped>\n",
       "    .dataframe tbody tr th:only-of-type {\n",
       "        vertical-align: middle;\n",
       "    }\n",
       "\n",
       "    .dataframe tbody tr th {\n",
       "        vertical-align: top;\n",
       "    }\n",
       "\n",
       "    .dataframe thead th {\n",
       "        text-align: right;\n",
       "    }\n",
       "</style>\n",
       "<table border=\"1\" class=\"dataframe\">\n",
       "  <thead>\n",
       "    <tr style=\"text-align: right;\">\n",
       "      <th></th>\n",
       "      <th>averageRating</th>\n",
       "    </tr>\n",
       "    <tr>\n",
       "      <th>startYear</th>\n",
       "      <th></th>\n",
       "    </tr>\n",
       "  </thead>\n",
       "  <tbody>\n",
       "    <tr>\n",
       "      <th>1916</th>\n",
       "      <td>6.7</td>\n",
       "    </tr>\n",
       "    <tr>\n",
       "      <th>1918</th>\n",
       "      <td>6.8</td>\n",
       "    </tr>\n",
       "    <tr>\n",
       "      <th>1920</th>\n",
       "      <td>7.0</td>\n",
       "    </tr>\n",
       "    <tr>\n",
       "      <th>1921</th>\n",
       "      <td>6.0</td>\n",
       "    </tr>\n",
       "    <tr>\n",
       "      <th>1925</th>\n",
       "      <td>7.1</td>\n",
       "    </tr>\n",
       "  </tbody>\n",
       "</table>\n",
       "</div>"
      ],
      "text/plain": [
       "           averageRating\n",
       "startYear               \n",
       "1916                 6.7\n",
       "1918                 6.8\n",
       "1920                 7.0\n",
       "1921                 6.0\n",
       "1925                 7.1"
      ]
     },
     "execution_count": 28,
     "metadata": {},
     "output_type": "execute_result"
    }
   ],
   "source": [
    "# moy - mean of the year\n",
    "moy = sf.loc[sf['numVotes'] > 140].groupby('startYear')[['averageRating']].mean()\n",
    "moy.head()"
   ]
  },
  {
   "cell_type": "code",
   "execution_count": 29,
   "metadata": {},
   "outputs": [
    {
     "data": {
      "image/png": "[encoded data removed]",
      "text/plain": [
       "<Figure size 432x288 with 1 Axes>"
      ]
     },
     "metadata": {
      "needs_background": "light"
     },
     "output_type": "display_data"
    }
   ],
   "source": [
    "plt.plot(moy.reset_index()['startYear'], moy['averageRating'])\n",
    "plt.xticks(ticks=[i for i in range(0, 120, 20)], labels=[i for i in range(1915, 2040, 20)])\n",
    "plt.grid(True)\n",
    "plt.show()"
   ]
  },
  {
   "cell_type": "markdown",
   "metadata": {},
   "source": [
    "На графике виден тренд снижения средней оценки."
   ]
  },
  {
   "cell_type": "markdown",
   "metadata": {},
   "source": [
    "## 2 часть. \n",
    "\n",
    "### Предскажем: \n",
    "1. Прибыль в зависимости от бюджета;\n",
    "2. Оценку фильма в зависимости от режиссера"
   ]
  },
  {
   "cell_type": "code",
   "execution_count": 30,
   "metadata": {},
   "outputs": [],
   "source": [
    "data = pd.read_csv('input/movie_metadata.csv')"
   ]
  },
  {
   "cell_type": "code",
   "execution_count": 31,
   "metadata": {},
   "outputs": [
    {
     "data": {
      "text/html": [
       "<div>\n",
       "<style scoped>\n",
       "    .dataframe tbody tr th:only-of-type {\n",
       "        vertical-align: middle;\n",
       "    }\n",
       "\n",
       "    .dataframe tbody tr th {\n",
       "        vertical-align: top;\n",
       "    }\n",
       "\n",
       "    .dataframe thead th {\n",
       "        text-align: right;\n",
       "    }\n",
       "</style>\n",
       "<table border=\"1\" class=\"dataframe\">\n",
       "  <thead>\n",
       "    <tr style=\"text-align: right;\">\n",
       "      <th></th>\n",
       "      <th>color</th>\n",
       "      <th>director_name</th>\n",
       "      <th>num_critic_for_reviews</th>\n",
       "      <th>duration</th>\n",
       "      <th>director_facebook_likes</th>\n",
       "      <th>actor_3_facebook_likes</th>\n",
       "      <th>actor_2_name</th>\n",
       "      <th>actor_1_facebook_likes</th>\n",
       "      <th>gross</th>\n",
       "      <th>genres</th>\n",
       "      <th>...</th>\n",
       "      <th>num_user_for_reviews</th>\n",
       "      <th>language</th>\n",
       "      <th>country</th>\n",
       "      <th>content_rating</th>\n",
       "      <th>budget</th>\n",
       "      <th>title_year</th>\n",
       "      <th>actor_2_facebook_likes</th>\n",
       "      <th>imdb_score</th>\n",
       "      <th>aspect_ratio</th>\n",
       "      <th>movie_facebook_likes</th>\n",
       "    </tr>\n",
       "  </thead>\n",
       "  <tbody>\n",
       "    <tr>\n",
       "      <th>0</th>\n",
       "      <td>Color</td>\n",
       "      <td>James Cameron</td>\n",
       "      <td>723.0</td>\n",
       "      <td>178.0</td>\n",
       "      <td>0.0</td>\n",
       "      <td>855.0</td>\n",
       "      <td>Joel David Moore</td>\n",
       "      <td>1000.0</td>\n",
       "      <td>760505847.0</td>\n",
       "      <td>Action|Adventure|Fantasy|Sci-Fi</td>\n",
       "      <td>...</td>\n",
       "      <td>3054.0</td>\n",
       "      <td>English</td>\n",
       "      <td>USA</td>\n",
       "      <td>PG-13</td>\n",
       "      <td>237000000.0</td>\n",
       "      <td>2009.0</td>\n",
       "      <td>936.0</td>\n",
       "      <td>7.9</td>\n",
       "      <td>1.78</td>\n",
       "      <td>33000</td>\n",
       "    </tr>\n",
       "    <tr>\n",
       "      <th>1</th>\n",
       "      <td>Color</td>\n",
       "      <td>Gore Verbinski</td>\n",
       "      <td>302.0</td>\n",
       "      <td>169.0</td>\n",
       "      <td>563.0</td>\n",
       "      <td>1000.0</td>\n",
       "      <td>Orlando Bloom</td>\n",
       "      <td>40000.0</td>\n",
       "      <td>309404152.0</td>\n",
       "      <td>Action|Adventure|Fantasy</td>\n",
       "      <td>...</td>\n",
       "      <td>1238.0</td>\n",
       "      <td>English</td>\n",
       "      <td>USA</td>\n",
       "      <td>PG-13</td>\n",
       "      <td>300000000.0</td>\n",
       "      <td>2007.0</td>\n",
       "      <td>5000.0</td>\n",
       "      <td>7.1</td>\n",
       "      <td>2.35</td>\n",
       "      <td>0</td>\n",
       "    </tr>\n",
       "    <tr>\n",
       "      <th>2</th>\n",
       "      <td>Color</td>\n",
       "      <td>Sam Mendes</td>\n",
       "      <td>602.0</td>\n",
       "      <td>148.0</td>\n",
       "      <td>0.0</td>\n",
       "      <td>161.0</td>\n",
       "      <td>Rory Kinnear</td>\n",
       "      <td>11000.0</td>\n",
       "      <td>200074175.0</td>\n",
       "      <td>Action|Adventure|Thriller</td>\n",
       "      <td>...</td>\n",
       "      <td>994.0</td>\n",
       "      <td>English</td>\n",
       "      <td>UK</td>\n",
       "      <td>PG-13</td>\n",
       "      <td>245000000.0</td>\n",
       "      <td>2015.0</td>\n",
       "      <td>393.0</td>\n",
       "      <td>6.8</td>\n",
       "      <td>2.35</td>\n",
       "      <td>85000</td>\n",
       "    </tr>\n",
       "    <tr>\n",
       "      <th>3</th>\n",
       "      <td>Color</td>\n",
       "      <td>Christopher Nolan</td>\n",
       "      <td>813.0</td>\n",
       "      <td>164.0</td>\n",
       "      <td>22000.0</td>\n",
       "      <td>23000.0</td>\n",
       "      <td>Christian Bale</td>\n",
       "      <td>27000.0</td>\n",
       "      <td>448130642.0</td>\n",
       "      <td>Action|Thriller</td>\n",
       "      <td>...</td>\n",
       "      <td>2701.0</td>\n",
       "      <td>English</td>\n",
       "      <td>USA</td>\n",
       "      <td>PG-13</td>\n",
       "      <td>250000000.0</td>\n",
       "      <td>2012.0</td>\n",
       "      <td>23000.0</td>\n",
       "      <td>8.5</td>\n",
       "      <td>2.35</td>\n",
       "      <td>164000</td>\n",
       "    </tr>\n",
       "    <tr>\n",
       "      <th>4</th>\n",
       "      <td>NaN</td>\n",
       "      <td>Doug Walker</td>\n",
       "      <td>NaN</td>\n",
       "      <td>NaN</td>\n",
       "      <td>131.0</td>\n",
       "      <td>NaN</td>\n",
       "      <td>Rob Walker</td>\n",
       "      <td>131.0</td>\n",
       "      <td>NaN</td>\n",
       "      <td>Documentary</td>\n",
       "      <td>...</td>\n",
       "      <td>NaN</td>\n",
       "      <td>NaN</td>\n",
       "      <td>NaN</td>\n",
       "      <td>NaN</td>\n",
       "      <td>NaN</td>\n",
       "      <td>NaN</td>\n",
       "      <td>12.0</td>\n",
       "      <td>7.1</td>\n",
       "      <td>NaN</td>\n",
       "      <td>0</td>\n",
       "    </tr>\n",
       "  </tbody>\n",
       "</table>\n",
       "<p>5 rows × 28 columns</p>\n",
       "</div>"
      ],
      "text/plain": [
       "   color      director_name  num_critic_for_reviews  duration  \\\n",
       "0  Color      James Cameron                   723.0     178.0   \n",
       "1  Color     Gore Verbinski                   302.0     169.0   \n",
       "2  Color         Sam Mendes                   602.0     148.0   \n",
       "3  Color  Christopher Nolan                   813.0     164.0   \n",
       "4    NaN        Doug Walker                     NaN       NaN   \n",
       "\n",
       "   director_facebook_likes  actor_3_facebook_likes      actor_2_name  \\\n",
       "0                      0.0                   855.0  Joel David Moore   \n",
       "1                    563.0                  1000.0     Orlando Bloom   \n",
       "2                      0.0                   161.0      Rory Kinnear   \n",
       "3                  22000.0                 23000.0    Christian Bale   \n",
       "4                    131.0                     NaN        Rob Walker   \n",
       "\n",
       "   actor_1_facebook_likes        gross                           genres  \\\n",
       "0                  1000.0  760505847.0  Action|Adventure|Fantasy|Sci-Fi   \n",
       "1                 40000.0  309404152.0         Action|Adventure|Fantasy   \n",
       "2                 11000.0  200074175.0        Action|Adventure|Thriller   \n",
       "3                 27000.0  448130642.0                  Action|Thriller   \n",
       "4                   131.0          NaN                      Documentary   \n",
       "\n",
       "          ...          num_user_for_reviews language  country  content_rating  \\\n",
       "0         ...                        3054.0  English      USA           PG-13   \n",
       "1         ...                        1238.0  English      USA           PG-13   \n",
       "2         ...                         994.0  English       UK           PG-13   \n",
       "3         ...                        2701.0  English      USA           PG-13   \n",
       "4         ...                           NaN      NaN      NaN             NaN   \n",
       "\n",
       "        budget  title_year actor_2_facebook_likes imdb_score  aspect_ratio  \\\n",
       "0  237000000.0      2009.0                  936.0        7.9          1.78   \n",
       "1  300000000.0      2007.0                 5000.0        7.1          2.35   \n",
       "2  245000000.0      2015.0                  393.0        6.8          2.35   \n",
       "3  250000000.0      2012.0                23000.0        8.5          2.35   \n",
       "4          NaN         NaN                   12.0        7.1           NaN   \n",
       "\n",
       "  movie_facebook_likes  \n",
       "0                33000  \n",
       "1                    0  \n",
       "2                85000  \n",
       "3               164000  \n",
       "4                    0  \n",
       "\n",
       "[5 rows x 28 columns]"
      ]
     },
     "execution_count": 31,
     "metadata": {},
     "output_type": "execute_result"
    }
   ],
   "source": [
    "data.head()"
   ]
  },
  {
   "cell_type": "code",
   "execution_count": 32,
   "metadata": {},
   "outputs": [
    {
     "data": {
      "text/plain": [
       "Index(['color', 'director_name', 'num_critic_for_reviews', 'duration',\n",
       "       'director_facebook_likes', 'actor_3_facebook_likes', 'actor_2_name',\n",
       "       'actor_1_facebook_likes', 'gross', 'genres', 'actor_1_name',\n",
       "       'movie_title', 'num_voted_users', 'cast_total_facebook_likes',\n",
       "       'actor_3_name', 'facenumber_in_poster', 'plot_keywords',\n",
       "       'movie_imdb_link', 'num_user_for_reviews', 'language', 'country',\n",
       "       'content_rating', 'budget', 'title_year', 'actor_2_facebook_likes',\n",
       "       'imdb_score', 'aspect_ratio', 'movie_facebook_likes'],\n",
       "      dtype='object')"
      ]
     },
     "execution_count": 32,
     "metadata": {},
     "output_type": "execute_result"
    }
   ],
   "source": [
    "data.columns"
   ]
  },
  {
   "cell_type": "markdown",
   "metadata": {},
   "source": [
    "Для начала посмотрим зависимость по фильмам Джеймса Кемерона:"
   ]
  },
  {
   "cell_type": "code",
   "execution_count": 33,
   "metadata": {},
   "outputs": [
    {
     "data": {
      "text/html": [
       "<div>\n",
       "<style scoped>\n",
       "    .dataframe tbody tr th:only-of-type {\n",
       "        vertical-align: middle;\n",
       "    }\n",
       "\n",
       "    .dataframe tbody tr th {\n",
       "        vertical-align: top;\n",
       "    }\n",
       "\n",
       "    .dataframe thead th {\n",
       "        text-align: right;\n",
       "    }\n",
       "</style>\n",
       "<table border=\"1\" class=\"dataframe\">\n",
       "  <thead>\n",
       "    <tr style=\"text-align: right;\">\n",
       "      <th></th>\n",
       "      <th>movie_title</th>\n",
       "      <th>country</th>\n",
       "      <th>director_name</th>\n",
       "      <th>actor_1_name</th>\n",
       "      <th>budget</th>\n",
       "      <th>gross</th>\n",
       "      <th>genres</th>\n",
       "      <th>title_year</th>\n",
       "      <th>num_voted_users</th>\n",
       "      <th>imdb_score</th>\n",
       "      <th>content_rating</th>\n",
       "    </tr>\n",
       "  </thead>\n",
       "  <tbody>\n",
       "    <tr>\n",
       "      <th>0</th>\n",
       "      <td>Avatar</td>\n",
       "      <td>USA</td>\n",
       "      <td>James Cameron</td>\n",
       "      <td>CCH Pounder</td>\n",
       "      <td>237000000.0</td>\n",
       "      <td>760505847.0</td>\n",
       "      <td>Action|Adventure|Fantasy|Sci-Fi</td>\n",
       "      <td>2009.0</td>\n",
       "      <td>886204</td>\n",
       "      <td>7.9</td>\n",
       "      <td>PG-13</td>\n",
       "    </tr>\n",
       "    <tr>\n",
       "      <th>26</th>\n",
       "      <td>Titanic</td>\n",
       "      <td>USA</td>\n",
       "      <td>James Cameron</td>\n",
       "      <td>Leonardo DiCaprio</td>\n",
       "      <td>200000000.0</td>\n",
       "      <td>658672302.0</td>\n",
       "      <td>Drama|Romance</td>\n",
       "      <td>1997.0</td>\n",
       "      <td>793059</td>\n",
       "      <td>7.7</td>\n",
       "      <td>PG-13</td>\n",
       "    </tr>\n",
       "    <tr>\n",
       "      <th>288</th>\n",
       "      <td>Terminator 2: Judgment Day</td>\n",
       "      <td>USA</td>\n",
       "      <td>James Cameron</td>\n",
       "      <td>Joe Morton</td>\n",
       "      <td>102000000.0</td>\n",
       "      <td>204843350.0</td>\n",
       "      <td>Action|Sci-Fi</td>\n",
       "      <td>1991.0</td>\n",
       "      <td>744891</td>\n",
       "      <td>8.5</td>\n",
       "      <td>R</td>\n",
       "    </tr>\n",
       "    <tr>\n",
       "      <th>291</th>\n",
       "      <td>True Lies</td>\n",
       "      <td>USA</td>\n",
       "      <td>James Cameron</td>\n",
       "      <td>Jamie Lee Curtis</td>\n",
       "      <td>115000000.0</td>\n",
       "      <td>146282411.0</td>\n",
       "      <td>Action|Comedy|Thriller</td>\n",
       "      <td>1994.0</td>\n",
       "      <td>190439</td>\n",
       "      <td>7.2</td>\n",
       "      <td>R</td>\n",
       "    </tr>\n",
       "    <tr>\n",
       "      <th>606</th>\n",
       "      <td>The Abyss</td>\n",
       "      <td>USA</td>\n",
       "      <td>James Cameron</td>\n",
       "      <td>Michael Biehn</td>\n",
       "      <td>69500000.0</td>\n",
       "      <td>54222000.0</td>\n",
       "      <td>Adventure|Drama|Sci-Fi|Thriller</td>\n",
       "      <td>1989.0</td>\n",
       "      <td>131217</td>\n",
       "      <td>7.6</td>\n",
       "      <td>PG-13</td>\n",
       "    </tr>\n",
       "    <tr>\n",
       "      <th>2486</th>\n",
       "      <td>Aliens</td>\n",
       "      <td>USA</td>\n",
       "      <td>James Cameron</td>\n",
       "      <td>Michael Biehn</td>\n",
       "      <td>18500000.0</td>\n",
       "      <td>85200000.0</td>\n",
       "      <td>Action|Adventure|Sci-Fi</td>\n",
       "      <td>1986.0</td>\n",
       "      <td>488537</td>\n",
       "      <td>8.4</td>\n",
       "      <td>R</td>\n",
       "    </tr>\n",
       "    <tr>\n",
       "      <th>3575</th>\n",
       "      <td>The Terminator</td>\n",
       "      <td>UK</td>\n",
       "      <td>James Cameron</td>\n",
       "      <td>Michael Biehn</td>\n",
       "      <td>6500000.0</td>\n",
       "      <td>38400000.0</td>\n",
       "      <td>Action|Sci-Fi</td>\n",
       "      <td>1984.0</td>\n",
       "      <td>600266</td>\n",
       "      <td>8.1</td>\n",
       "      <td>R</td>\n",
       "    </tr>\n",
       "  </tbody>\n",
       "</table>\n",
       "</div>"
      ],
      "text/plain": [
       "                      movie_title country  director_name       actor_1_name  \\\n",
       "0                         Avatar      USA  James Cameron        CCH Pounder   \n",
       "26                       Titanic      USA  James Cameron  Leonardo DiCaprio   \n",
       "288   Terminator 2: Judgment Day      USA  James Cameron         Joe Morton   \n",
       "291                    True Lies      USA  James Cameron   Jamie Lee Curtis   \n",
       "606                    The Abyss      USA  James Cameron      Michael Biehn   \n",
       "2486                      Aliens      USA  James Cameron      Michael Biehn   \n",
       "3575              The Terminator       UK  James Cameron      Michael Biehn   \n",
       "\n",
       "           budget        gross                           genres  title_year  \\\n",
       "0     237000000.0  760505847.0  Action|Adventure|Fantasy|Sci-Fi      2009.0   \n",
       "26    200000000.0  658672302.0                    Drama|Romance      1997.0   \n",
       "288   102000000.0  204843350.0                    Action|Sci-Fi      1991.0   \n",
       "291   115000000.0  146282411.0           Action|Comedy|Thriller      1994.0   \n",
       "606    69500000.0   54222000.0  Adventure|Drama|Sci-Fi|Thriller      1989.0   \n",
       "2486   18500000.0   85200000.0          Action|Adventure|Sci-Fi      1986.0   \n",
       "3575    6500000.0   38400000.0                    Action|Sci-Fi      1984.0   \n",
       "\n",
       "      num_voted_users  imdb_score content_rating  \n",
       "0              886204         7.9          PG-13  \n",
       "26             793059         7.7          PG-13  \n",
       "288            744891         8.5              R  \n",
       "291            190439         7.2              R  \n",
       "606            131217         7.6          PG-13  \n",
       "2486           488537         8.4              R  \n",
       "3575           600266         8.1              R  "
      ]
     },
     "execution_count": 33,
     "metadata": {},
     "output_type": "execute_result"
    }
   ],
   "source": [
    "JC = data.loc[data['director_name'] == 'James Cameron'][['movie_title', 'country', 'director_name', 'actor_1_name', \n",
    "                                                    'budget', 'gross', 'genres','title_year',\n",
    "                                                    'num_voted_users', 'imdb_score', 'content_rating']]\n",
    "JC"
   ]
  },
  {
   "cell_type": "code",
   "execution_count": 34,
   "metadata": {},
   "outputs": [
    {
     "data": {
      "text/plain": [
       "0       237000000.0\n",
       "26      200000000.0\n",
       "288     102000000.0\n",
       "291     115000000.0\n",
       "606      69500000.0\n",
       "2486     18500000.0\n",
       "3575      6500000.0\n",
       "Name: budget, dtype: float64"
      ]
     },
     "execution_count": 34,
     "metadata": {},
     "output_type": "execute_result"
    }
   ],
   "source": [
    "x1 = JC['budget']\n",
    "x1"
   ]
  },
  {
   "cell_type": "code",
   "execution_count": 35,
   "metadata": {},
   "outputs": [
    {
     "data": {
      "text/plain": [
       "0       760505847.0\n",
       "26      658672302.0\n",
       "288     204843350.0\n",
       "291     146282411.0\n",
       "606      54222000.0\n",
       "2486     85200000.0\n",
       "3575     38400000.0\n",
       "Name: gross, dtype: float64"
      ]
     },
     "execution_count": 35,
     "metadata": {},
     "output_type": "execute_result"
    }
   ],
   "source": [
    "y1 = JC['gross']\n",
    "y1"
   ]
  },
  {
   "cell_type": "markdown",
   "metadata": {},
   "source": [
    "Построим диаграмму распределения:"
   ]
  },
  {
   "cell_type": "code",
   "execution_count": 36,
   "metadata": {},
   "outputs": [
    {
     "data": {
      "image/png": "[encoded data removed]",
      "text/plain": [
       "<Figure size 432x288 with 1 Axes>"
      ]
     },
     "metadata": {
      "needs_background": "light"
     },
     "output_type": "display_data"
    }
   ],
   "source": [
    "plt.scatter(x1, y1)\n",
    "plt.xlabel('Бюджет')\n",
    "plt.ylabel('Прибыль');"
   ]
  },
  {
   "cell_type": "markdown",
   "metadata": {},
   "source": [
    "Прослеживается явная зависимость. Найдем коэффициенты линейной регрессии с помощью формул для парной регрессии:\n",
    "\n",
    "$$y = b_0 + b_1 x_1,$$где\n",
    "\n",
    "\n",
    "$$b_1 = \\frac{\\overline{yx} - \\overline{y} \\cdot {\\overline{x}}}{\\overline{x^2} - (\\overline{x})^2}, \\: b_0 = \\overline{y} - b_1 \\cdot {\\overline{x}}.$$"
   ]
  },
  {
   "cell_type": "code",
   "execution_count": 37,
   "metadata": {},
   "outputs": [],
   "source": [
    "# Получение коэффициентов парной регрессии\n",
    "def reg_pair_coef(x, y):\n",
    "    b1 = (np.mean(x * y) - np.mean(x) * np.mean(y)) / (np.mean(x ** 2) - np.mean(x) ** 2)\n",
    "    b0 = np.mean(y) - b1 * np.mean(x)\n",
    "\n",
    "    return b0, b1"
   ]
  },
  {
   "cell_type": "code",
   "execution_count": 38,
   "metadata": {},
   "outputs": [
    {
     "data": {
      "text/plain": [
       "(-71117119.68889135, 3.267796590276873)"
      ]
     },
     "execution_count": 38,
     "metadata": {},
     "output_type": "execute_result"
    }
   ],
   "source": [
    "b0, b1 = reg_pair_coef(x1, y1)\n",
    "b0, b1"
   ]
  },
  {
   "cell_type": "markdown",
   "metadata": {},
   "source": [
    "Построим диаграмму распределения вместе с линейной регрессией:"
   ]
  },
  {
   "cell_type": "code",
   "execution_count": 39,
   "metadata": {},
   "outputs": [],
   "source": [
    "# Функция вывода диаграммы распределения и линейной регрессии\n",
    "def scatter_reg(x, y, b0, b1, x_label='Бюджет', y_label='Прибыль'):\n",
    "    ox = x\n",
    "    oy = b0 + b1 * ox\n",
    "    \n",
    "    plt.figure(figsize=(6,4))\n",
    "    plt.scatter(x, y)\n",
    "    plt.plot(ox, oy, color='red')\n",
    "    plt.xlabel(x_label)\n",
    "    plt.ylabel(y_label)\n",
    "    \n",
    "    plt.show()"
   ]
  },
  {
   "cell_type": "code",
   "execution_count": 40,
   "metadata": {},
   "outputs": [
    {
     "data": {
      "image/png": "[encoded data removed]",
      "text/plain": [
       "<Figure size 432x288 with 1 Axes>"
      ]
     },
     "metadata": {
      "needs_background": "light"
     },
     "output_type": "display_data"
    }
   ],
   "source": [
    "scatter_reg(x1, y1, b0, b1)"
   ]
  },
  {
   "cell_type": "markdown",
   "metadata": {},
   "source": [
    "Предскажем значения с полученными коэффициентами и посчитаем коэффициент детерминации:\n",
    "\n",
    "$$R^2 = \\dfrac{D_{model}}{D_y}.$$"
   ]
  },
  {
   "cell_type": "code",
   "execution_count": 41,
   "metadata": {},
   "outputs": [
    {
     "name": "stdout",
     "output_type": "stream",
     "text": [
      "b0 = -71117119.68889135\n",
      "b1 = 3.267796590276873\n",
      "R2 = 0.8811239026827489\n"
     ]
    }
   ],
   "source": [
    "z1 = b0 + b1 * x1           \n",
    "R2 = z1.var() / y1.var()\n",
    "print(f'b0 = {b0}')\n",
    "print(f'b1 = {b1}')\n",
    "print(f'R2 = {R2}')"
   ]
  },
  {
   "cell_type": "markdown",
   "metadata": {},
   "source": [
    "Очень неплохой коэффициент получился. "
   ]
  },
  {
   "cell_type": "markdown",
   "metadata": {},
   "source": [
    "Напишем функцию, которая выводит линейную регрессию, предсказывает значения и считает коэффициент детерминации:"
   ]
  },
  {
   "cell_type": "code",
   "execution_count": 42,
   "metadata": {},
   "outputs": [],
   "source": [
    "def deter(x, y, x_label='Бюджет', y_label='Прибыль'):\n",
    "    b0, b1 = reg_pair_coef(x, y)\n",
    "    z = b0 + b1 * x\n",
    "    \n",
    "    scatter_reg(x, y, b0, b1, x_label, y_label)    \n",
    "        \n",
    "    R2 = z.var() / y.var()\n",
    "    print(f'b0 = {b0}')\n",
    "    print(f'b1 = {b1}')\n",
    "    print(f'R2 = {R2}')"
   ]
  },
  {
   "cell_type": "markdown",
   "metadata": {},
   "source": [
    "Почистим данные и возьмем выборку научно-фантастических фильмов. "
   ]
  },
  {
   "cell_type": "code",
   "execution_count": 43,
   "metadata": {},
   "outputs": [
    {
     "data": {
      "text/html": [
       "<div>\n",
       "<style scoped>\n",
       "    .dataframe tbody tr th:only-of-type {\n",
       "        vertical-align: middle;\n",
       "    }\n",
       "\n",
       "    .dataframe tbody tr th {\n",
       "        vertical-align: top;\n",
       "    }\n",
       "\n",
       "    .dataframe thead th {\n",
       "        text-align: right;\n",
       "    }\n",
       "</style>\n",
       "<table border=\"1\" class=\"dataframe\">\n",
       "  <thead>\n",
       "    <tr style=\"text-align: right;\">\n",
       "      <th></th>\n",
       "      <th>movie_title</th>\n",
       "      <th>country</th>\n",
       "      <th>director_name</th>\n",
       "      <th>actor_1_name</th>\n",
       "      <th>budget</th>\n",
       "      <th>gross</th>\n",
       "      <th>genres</th>\n",
       "      <th>title_year</th>\n",
       "      <th>num_voted_users</th>\n",
       "      <th>imdb_score</th>\n",
       "    </tr>\n",
       "  </thead>\n",
       "  <tbody>\n",
       "    <tr>\n",
       "      <th>0</th>\n",
       "      <td>Avatar</td>\n",
       "      <td>USA</td>\n",
       "      <td>James Cameron</td>\n",
       "      <td>CCH Pounder</td>\n",
       "      <td>237000000.0</td>\n",
       "      <td>760505847.0</td>\n",
       "      <td>Action|Adventure|Fantasy|Sci-Fi</td>\n",
       "      <td>2009.0</td>\n",
       "      <td>886204</td>\n",
       "      <td>7.9</td>\n",
       "    </tr>\n",
       "    <tr>\n",
       "      <th>5</th>\n",
       "      <td>John Carter</td>\n",
       "      <td>USA</td>\n",
       "      <td>Andrew Stanton</td>\n",
       "      <td>Daryl Sabara</td>\n",
       "      <td>263700000.0</td>\n",
       "      <td>73058679.0</td>\n",
       "      <td>Action|Adventure|Sci-Fi</td>\n",
       "      <td>2012.0</td>\n",
       "      <td>212204</td>\n",
       "      <td>6.6</td>\n",
       "    </tr>\n",
       "    <tr>\n",
       "      <th>8</th>\n",
       "      <td>Avengers: Age of Ultron</td>\n",
       "      <td>USA</td>\n",
       "      <td>Joss Whedon</td>\n",
       "      <td>Chris Hemsworth</td>\n",
       "      <td>250000000.0</td>\n",
       "      <td>458991599.0</td>\n",
       "      <td>Action|Adventure|Sci-Fi</td>\n",
       "      <td>2015.0</td>\n",
       "      <td>462669</td>\n",
       "      <td>7.5</td>\n",
       "    </tr>\n",
       "    <tr>\n",
       "      <th>10</th>\n",
       "      <td>Batman v Superman: Dawn of Justice</td>\n",
       "      <td>USA</td>\n",
       "      <td>Zack Snyder</td>\n",
       "      <td>Henry Cavill</td>\n",
       "      <td>250000000.0</td>\n",
       "      <td>330249062.0</td>\n",
       "      <td>Action|Adventure|Sci-Fi</td>\n",
       "      <td>2016.0</td>\n",
       "      <td>371639</td>\n",
       "      <td>6.9</td>\n",
       "    </tr>\n",
       "    <tr>\n",
       "      <th>11</th>\n",
       "      <td>Superman Returns</td>\n",
       "      <td>USA</td>\n",
       "      <td>Bryan Singer</td>\n",
       "      <td>Kevin Spacey</td>\n",
       "      <td>209000000.0</td>\n",
       "      <td>200069408.0</td>\n",
       "      <td>Action|Adventure|Sci-Fi</td>\n",
       "      <td>2006.0</td>\n",
       "      <td>240396</td>\n",
       "      <td>6.1</td>\n",
       "    </tr>\n",
       "  </tbody>\n",
       "</table>\n",
       "</div>"
      ],
      "text/plain": [
       "                            movie_title country   director_name  \\\n",
       "0                               Avatar      USA   James Cameron   \n",
       "5                          John Carter      USA  Andrew Stanton   \n",
       "8              Avengers: Age of Ultron      USA     Joss Whedon   \n",
       "10  Batman v Superman: Dawn of Justice      USA     Zack Snyder   \n",
       "11                    Superman Returns      USA    Bryan Singer   \n",
       "\n",
       "       actor_1_name       budget        gross  \\\n",
       "0       CCH Pounder  237000000.0  760505847.0   \n",
       "5      Daryl Sabara  263700000.0   73058679.0   \n",
       "8   Chris Hemsworth  250000000.0  458991599.0   \n",
       "10     Henry Cavill  250000000.0  330249062.0   \n",
       "11     Kevin Spacey  209000000.0  200069408.0   \n",
       "\n",
       "                             genres  title_year  num_voted_users  imdb_score  \n",
       "0   Action|Adventure|Fantasy|Sci-Fi      2009.0           886204         7.9  \n",
       "5           Action|Adventure|Sci-Fi      2012.0           212204         6.6  \n",
       "8           Action|Adventure|Sci-Fi      2015.0           462669         7.5  \n",
       "10          Action|Adventure|Sci-Fi      2016.0           371639         6.9  \n",
       "11          Action|Adventure|Sci-Fi      2006.0           240396         6.1  "
      ]
     },
     "execution_count": 43,
     "metadata": {},
     "output_type": "execute_result"
    }
   ],
   "source": [
    "sf = data[['movie_title', 'country', 'director_name', 'actor_1_name', \n",
    "    'budget', 'gross', 'genres','title_year', 'num_voted_users', \n",
    "    'imdb_score']].dropna().loc[(data['genres'].str.contains('Sci-Fi', case=False, regex=False, na=False))]\n",
    "sf.head()"
   ]
  },
  {
   "cell_type": "code",
   "execution_count": 44,
   "metadata": {},
   "outputs": [
    {
     "data": {
      "image/png": "[encoded data removed]",
      "text/plain": [
       "<Figure size 432x288 with 1 Axes>"
      ]
     },
     "metadata": {
      "needs_background": "light"
     },
     "output_type": "display_data"
    },
    {
     "name": "stdout",
     "output_type": "stream",
     "text": [
      "b0 = 83116857.90843247\n",
      "b1 = 0.004175701589578362\n",
      "R2 = 0.000480564392866803\n"
     ]
    }
   ],
   "source": [
    "deter(sf['budget'], sf['gross'])"
   ]
  },
  {
   "cell_type": "markdown",
   "metadata": {},
   "source": [
    "Посмотрим самые бюджетные фильмы:"
   ]
  },
  {
   "cell_type": "code",
   "execution_count": 45,
   "metadata": {},
   "outputs": [
    {
     "data": {
      "text/html": [
       "<div>\n",
       "<style scoped>\n",
       "    .dataframe tbody tr th:only-of-type {\n",
       "        vertical-align: middle;\n",
       "    }\n",
       "\n",
       "    .dataframe tbody tr th {\n",
       "        vertical-align: top;\n",
       "    }\n",
       "\n",
       "    .dataframe thead th {\n",
       "        text-align: right;\n",
       "    }\n",
       "</style>\n",
       "<table border=\"1\" class=\"dataframe\">\n",
       "  <thead>\n",
       "    <tr style=\"text-align: right;\">\n",
       "      <th></th>\n",
       "      <th>movie_title</th>\n",
       "      <th>country</th>\n",
       "      <th>director_name</th>\n",
       "      <th>actor_1_name</th>\n",
       "      <th>budget</th>\n",
       "      <th>gross</th>\n",
       "      <th>genres</th>\n",
       "      <th>title_year</th>\n",
       "      <th>num_voted_users</th>\n",
       "      <th>imdb_score</th>\n",
       "    </tr>\n",
       "  </thead>\n",
       "  <tbody>\n",
       "    <tr>\n",
       "      <th>2988</th>\n",
       "      <td>The Host</td>\n",
       "      <td>South Korea</td>\n",
       "      <td>Joon-ho Bong</td>\n",
       "      <td>Doona Bae</td>\n",
       "      <td>1.221550e+10</td>\n",
       "      <td>2201412.0</td>\n",
       "      <td>Comedy|Drama|Horror|Sci-Fi</td>\n",
       "      <td>2006.0</td>\n",
       "      <td>68883</td>\n",
       "      <td>7.0</td>\n",
       "    </tr>\n",
       "    <tr>\n",
       "      <th>2334</th>\n",
       "      <td>Steamboy</td>\n",
       "      <td>Japan</td>\n",
       "      <td>Katsuhiro Ôtomo</td>\n",
       "      <td>William Hootkins</td>\n",
       "      <td>2.127520e+09</td>\n",
       "      <td>410388.0</td>\n",
       "      <td>Action|Adventure|Animation|Family|Sci-Fi|Thriller</td>\n",
       "      <td>2004.0</td>\n",
       "      <td>13727</td>\n",
       "      <td>6.9</td>\n",
       "    </tr>\n",
       "    <tr>\n",
       "      <th>3423</th>\n",
       "      <td>Akira</td>\n",
       "      <td>Japan</td>\n",
       "      <td>Katsuhiro Ôtomo</td>\n",
       "      <td>Mitsuo Iwata</td>\n",
       "      <td>1.100000e+09</td>\n",
       "      <td>439162.0</td>\n",
       "      <td>Action|Animation|Sci-Fi</td>\n",
       "      <td>1988.0</td>\n",
       "      <td>106160</td>\n",
       "      <td>8.1</td>\n",
       "    </tr>\n",
       "    <tr>\n",
       "      <th>4542</th>\n",
       "      <td>Godzilla 2000</td>\n",
       "      <td>Japan</td>\n",
       "      <td>Takao Okawara</td>\n",
       "      <td>Hiroshi Abe</td>\n",
       "      <td>1.000000e+09</td>\n",
       "      <td>10037390.0</td>\n",
       "      <td>Action|Adventure|Drama|Sci-Fi|Thriller</td>\n",
       "      <td>1999.0</td>\n",
       "      <td>5442</td>\n",
       "      <td>6.0</td>\n",
       "    </tr>\n",
       "    <tr>\n",
       "      <th>5</th>\n",
       "      <td>John Carter</td>\n",
       "      <td>USA</td>\n",
       "      <td>Andrew Stanton</td>\n",
       "      <td>Daryl Sabara</td>\n",
       "      <td>2.637000e+08</td>\n",
       "      <td>73058679.0</td>\n",
       "      <td>Action|Adventure|Sci-Fi</td>\n",
       "      <td>2012.0</td>\n",
       "      <td>212204</td>\n",
       "      <td>6.6</td>\n",
       "    </tr>\n",
       "    <tr>\n",
       "      <th>8</th>\n",
       "      <td>Avengers: Age of Ultron</td>\n",
       "      <td>USA</td>\n",
       "      <td>Joss Whedon</td>\n",
       "      <td>Chris Hemsworth</td>\n",
       "      <td>2.500000e+08</td>\n",
       "      <td>458991599.0</td>\n",
       "      <td>Action|Adventure|Sci-Fi</td>\n",
       "      <td>2015.0</td>\n",
       "      <td>462669</td>\n",
       "      <td>7.5</td>\n",
       "    </tr>\n",
       "  </tbody>\n",
       "</table>\n",
       "</div>"
      ],
      "text/plain": [
       "                   movie_title      country    director_name  \\\n",
       "2988                 The Host   South Korea     Joon-ho Bong   \n",
       "2334                 Steamboy         Japan  Katsuhiro Ôtomo   \n",
       "3423                    Akira         Japan  Katsuhiro Ôtomo   \n",
       "4542            Godzilla 2000         Japan    Takao Okawara   \n",
       "5                 John Carter           USA   Andrew Stanton   \n",
       "8     Avengers: Age of Ultron           USA      Joss Whedon   \n",
       "\n",
       "          actor_1_name        budget        gross  \\\n",
       "2988         Doona Bae  1.221550e+10    2201412.0   \n",
       "2334  William Hootkins  2.127520e+09     410388.0   \n",
       "3423      Mitsuo Iwata  1.100000e+09     439162.0   \n",
       "4542       Hiroshi Abe  1.000000e+09   10037390.0   \n",
       "5         Daryl Sabara  2.637000e+08   73058679.0   \n",
       "8      Chris Hemsworth  2.500000e+08  458991599.0   \n",
       "\n",
       "                                                 genres  title_year  \\\n",
       "2988                         Comedy|Drama|Horror|Sci-Fi      2006.0   \n",
       "2334  Action|Adventure|Animation|Family|Sci-Fi|Thriller      2004.0   \n",
       "3423                            Action|Animation|Sci-Fi      1988.0   \n",
       "4542             Action|Adventure|Drama|Sci-Fi|Thriller      1999.0   \n",
       "5                               Action|Adventure|Sci-Fi      2012.0   \n",
       "8                               Action|Adventure|Sci-Fi      2015.0   \n",
       "\n",
       "      num_voted_users  imdb_score  \n",
       "2988            68883         7.0  \n",
       "2334            13727         6.9  \n",
       "3423           106160         8.1  \n",
       "4542             5442         6.0  \n",
       "5              212204         6.6  \n",
       "8              462669         7.5  "
      ]
     },
     "execution_count": 45,
     "metadata": {},
     "output_type": "execute_result"
    }
   ],
   "source": [
    "sf.sort_values(by='budget', ascending=False).head(6)"
   ]
  },
  {
   "cell_type": "markdown",
   "metadata": {},
   "source": [
    "Первые четыре явные выбросы. Исключим их из выборки."
   ]
  },
  {
   "cell_type": "code",
   "execution_count": 46,
   "metadata": {},
   "outputs": [
    {
     "data": {
      "text/plain": [
       "array([2988, 2334, 3423, 4542])"
      ]
     },
     "execution_count": 46,
     "metadata": {},
     "output_type": "execute_result"
    }
   ],
   "source": [
    "ids = sf.sort_values(by='budget', ascending=False).index.values[:4]\n",
    "ids"
   ]
  },
  {
   "cell_type": "code",
   "execution_count": 47,
   "metadata": {},
   "outputs": [],
   "source": [
    "sf = sf.loc[~sf.index.isin(ids)]"
   ]
  },
  {
   "cell_type": "code",
   "execution_count": 48,
   "metadata": {},
   "outputs": [
    {
     "data": {
      "image/png": "[encoded data removed]",
      "text/plain": [
       "<Figure size 432x288 with 1 Axes>"
      ]
     },
     "metadata": {
      "needs_background": "light"
     },
     "output_type": "display_data"
    },
    {
     "name": "stdout",
     "output_type": "stream",
     "text": [
      "b0 = 7521186.890314326\n",
      "b1 = 1.1619431570981502\n",
      "R2 = 0.4071417415155534\n"
     ]
    }
   ],
   "source": [
    "deter(sf['budget'], sf['gross'])"
   ]
  },
  {
   "cell_type": "markdown",
   "metadata": {},
   "source": [
    "Уже не плохо, но линейная регрессия в любом случае не самый лучший выбор для предсказания такой *явно сложной* зависимости.\n",
    "\n",
    "Попробуем исключить самые профитные фильмы:"
   ]
  },
  {
   "cell_type": "code",
   "execution_count": 49,
   "metadata": {},
   "outputs": [
    {
     "data": {
      "text/plain": [
       "array([5033, 3024, 3080, 4728, 4893, 4058, 4538, 2051, 4926, 2363])"
      ]
     },
     "execution_count": 49,
     "metadata": {},
     "output_type": "execute_result"
    }
   ],
   "source": [
    "ids = (sf['gross'] / sf['budget']).sort_values(ascending=False).index.values[:10]\n",
    "ids"
   ]
  },
  {
   "cell_type": "code",
   "execution_count": 50,
   "metadata": {},
   "outputs": [
    {
     "data": {
      "image/png": "[encoded data removed]",
      "text/plain": [
       "<Figure size 432x288 with 1 Axes>"
      ]
     },
     "metadata": {
      "needs_background": "light"
     },
     "output_type": "display_data"
    },
    {
     "name": "stdout",
     "output_type": "stream",
     "text": [
      "b0 = 1750771.3262518942\n",
      "b1 = 1.2064390127518583\n",
      "R2 = 0.4583113305634412\n"
     ]
    }
   ],
   "source": [
    "deter(sf.loc[~sf.index.isin(ids)]['budget'], sf.loc[~sf.index.isin(ids)]['gross'])"
   ]
  },
  {
   "cell_type": "markdown",
   "metadata": {},
   "source": [
    "Уже лучше, но корреляция не явная поэтому и такой результат."
   ]
  },
  {
   "cell_type": "markdown",
   "metadata": {},
   "source": [
    "#### Теперь предскажем оценку в зависимости от режиссера:"
   ]
  },
  {
   "cell_type": "code",
   "execution_count": 51,
   "metadata": {},
   "outputs": [
    {
     "data": {
      "text/html": [
       "<div>\n",
       "<style scoped>\n",
       "    .dataframe tbody tr th:only-of-type {\n",
       "        vertical-align: middle;\n",
       "    }\n",
       "\n",
       "    .dataframe tbody tr th {\n",
       "        vertical-align: top;\n",
       "    }\n",
       "\n",
       "    .dataframe thead th {\n",
       "        text-align: right;\n",
       "    }\n",
       "</style>\n",
       "<table border=\"1\" class=\"dataframe\">\n",
       "  <thead>\n",
       "    <tr style=\"text-align: right;\">\n",
       "      <th></th>\n",
       "      <th>movie_title</th>\n",
       "      <th>director_name</th>\n",
       "      <th>genres</th>\n",
       "      <th>actor_1_name</th>\n",
       "      <th>title_year</th>\n",
       "      <th>num_voted_users</th>\n",
       "      <th>imdb_score</th>\n",
       "    </tr>\n",
       "  </thead>\n",
       "  <tbody>\n",
       "    <tr>\n",
       "      <th>0</th>\n",
       "      <td>Avatar</td>\n",
       "      <td>James Cameron</td>\n",
       "      <td>Action|Adventure|Fantasy|Sci-Fi</td>\n",
       "      <td>CCH Pounder</td>\n",
       "      <td>2009.0</td>\n",
       "      <td>886204</td>\n",
       "      <td>7.9</td>\n",
       "    </tr>\n",
       "    <tr>\n",
       "      <th>1</th>\n",
       "      <td>Pirates of the Caribbean: At World's End</td>\n",
       "      <td>Gore Verbinski</td>\n",
       "      <td>Action|Adventure|Fantasy</td>\n",
       "      <td>Johnny Depp</td>\n",
       "      <td>2007.0</td>\n",
       "      <td>471220</td>\n",
       "      <td>7.1</td>\n",
       "    </tr>\n",
       "    <tr>\n",
       "      <th>2</th>\n",
       "      <td>Spectre</td>\n",
       "      <td>Sam Mendes</td>\n",
       "      <td>Action|Adventure|Thriller</td>\n",
       "      <td>Christoph Waltz</td>\n",
       "      <td>2015.0</td>\n",
       "      <td>275868</td>\n",
       "      <td>6.8</td>\n",
       "    </tr>\n",
       "    <tr>\n",
       "      <th>3</th>\n",
       "      <td>The Dark Knight Rises</td>\n",
       "      <td>Christopher Nolan</td>\n",
       "      <td>Action|Thriller</td>\n",
       "      <td>Tom Hardy</td>\n",
       "      <td>2012.0</td>\n",
       "      <td>1144337</td>\n",
       "      <td>8.5</td>\n",
       "    </tr>\n",
       "    <tr>\n",
       "      <th>5</th>\n",
       "      <td>John Carter</td>\n",
       "      <td>Andrew Stanton</td>\n",
       "      <td>Action|Adventure|Sci-Fi</td>\n",
       "      <td>Daryl Sabara</td>\n",
       "      <td>2012.0</td>\n",
       "      <td>212204</td>\n",
       "      <td>6.6</td>\n",
       "    </tr>\n",
       "  </tbody>\n",
       "</table>\n",
       "</div>"
      ],
      "text/plain": [
       "                                 movie_title      director_name  \\\n",
       "0                                    Avatar       James Cameron   \n",
       "1  Pirates of the Caribbean: At World's End      Gore Verbinski   \n",
       "2                                   Spectre          Sam Mendes   \n",
       "3                     The Dark Knight Rises   Christopher Nolan   \n",
       "5                               John Carter      Andrew Stanton   \n",
       "\n",
       "                            genres     actor_1_name  title_year  \\\n",
       "0  Action|Adventure|Fantasy|Sci-Fi      CCH Pounder      2009.0   \n",
       "1         Action|Adventure|Fantasy      Johnny Depp      2007.0   \n",
       "2        Action|Adventure|Thriller  Christoph Waltz      2015.0   \n",
       "3                  Action|Thriller        Tom Hardy      2012.0   \n",
       "5          Action|Adventure|Sci-Fi     Daryl Sabara      2012.0   \n",
       "\n",
       "   num_voted_users  imdb_score  \n",
       "0           886204         7.9  \n",
       "1           471220         7.1  \n",
       "2           275868         6.8  \n",
       "3          1144337         8.5  \n",
       "5           212204         6.6  "
      ]
     },
     "execution_count": 51,
     "metadata": {},
     "output_type": "execute_result"
    }
   ],
   "source": [
    "# dtr - director (режиссер)\n",
    "dtr = data[['movie_title', 'director_name', 'genres', 'actor_1_name', 'title_year', 'num_voted_users',   \n",
    "    'imdb_score']].dropna().loc[(~data['genres'].str.contains('Docum', case=False, regex=False, na=False))]\n",
    "\n",
    "dtr.head()"
   ]
  },
  {
   "cell_type": "code",
   "execution_count": 52,
   "metadata": {},
   "outputs": [
    {
     "name": "stdout",
     "output_type": "stream",
     "text": [
      "<class 'pandas.core.frame.DataFrame'>\n",
      "Int64Index: 4816 entries, 0 to 5041\n",
      "Data columns (total 7 columns):\n",
      "movie_title        4816 non-null object\n",
      "director_name      4816 non-null object\n",
      "genres             4816 non-null object\n",
      "actor_1_name       4816 non-null object\n",
      "title_year         4816 non-null float64\n",
      "num_voted_users    4816 non-null int64\n",
      "imdb_score         4816 non-null float64\n",
      "dtypes: float64(2), int64(1), object(4)\n",
      "memory usage: 301.0+ KB\n"
     ]
    }
   ],
   "source": [
    "dtr.info()"
   ]
  },
  {
   "cell_type": "markdown",
   "metadata": {},
   "source": [
    "Посчитаем количество снятых каждым режиссером фильмов:"
   ]
  },
  {
   "cell_type": "code",
   "execution_count": 53,
   "metadata": {},
   "outputs": [
    {
     "data": {
      "text/html": [
       "<div>\n",
       "<style scoped>\n",
       "    .dataframe tbody tr th:only-of-type {\n",
       "        vertical-align: middle;\n",
       "    }\n",
       "\n",
       "    .dataframe tbody tr th {\n",
       "        vertical-align: top;\n",
       "    }\n",
       "\n",
       "    .dataframe thead th {\n",
       "        text-align: right;\n",
       "    }\n",
       "</style>\n",
       "<table border=\"1\" class=\"dataframe\">\n",
       "  <thead>\n",
       "    <tr style=\"text-align: right;\">\n",
       "      <th></th>\n",
       "      <th>cnt</th>\n",
       "    </tr>\n",
       "    <tr>\n",
       "      <th>director_name</th>\n",
       "      <th></th>\n",
       "    </tr>\n",
       "  </thead>\n",
       "  <tbody>\n",
       "    <tr>\n",
       "      <th>Zoran Lisinac</th>\n",
       "      <td>1</td>\n",
       "    </tr>\n",
       "    <tr>\n",
       "      <th>Álex de la Iglesia</th>\n",
       "      <td>1</td>\n",
       "    </tr>\n",
       "    <tr>\n",
       "      <th>Émile Gaudreault</th>\n",
       "      <td>1</td>\n",
       "    </tr>\n",
       "    <tr>\n",
       "      <th>Éric Tessier</th>\n",
       "      <td>1</td>\n",
       "    </tr>\n",
       "    <tr>\n",
       "      <th>Étienne Faure</th>\n",
       "      <td>1</td>\n",
       "    </tr>\n",
       "  </tbody>\n",
       "</table>\n",
       "</div>"
      ],
      "text/plain": [
       "                    cnt\n",
       "director_name          \n",
       "Zoran Lisinac         1\n",
       "Álex de la Iglesia    1\n",
       "Émile Gaudreault      1\n",
       "Éric Tessier          1\n",
       "Étienne Faure         1"
      ]
     },
     "execution_count": 53,
     "metadata": {},
     "output_type": "execute_result"
    }
   ],
   "source": [
    "cnt = dtr.groupby(by='director_name')[['director_name']].count().rename(columns={'director_name': 'cnt'})\n",
    "\n",
    "cnt.tail()"
   ]
  },
  {
   "cell_type": "markdown",
   "metadata": {},
   "source": [
    "Посмотрим гистограмму по количеству фильмов снятыми режиссерами:"
   ]
  },
  {
   "cell_type": "code",
   "execution_count": 54,
   "metadata": {
    "scrolled": true
   },
   "outputs": [
    {
     "data": {
      "image/png": "[encoded data removed]",
      "text/plain": [
       "<Figure size 432x288 with 1 Axes>"
      ]
     },
     "metadata": {
      "needs_background": "light"
     },
     "output_type": "display_data"
    }
   ],
   "source": [
    "cnt.hist(bins=40);"
   ]
  },
  {
   "cell_type": "markdown",
   "metadata": {},
   "source": [
    "Соединим с основной выборкой и исключим тех режиссеров, которые снимали меньше трех фильмов (таких почти две тысячи):"
   ]
  },
  {
   "cell_type": "code",
   "execution_count": 55,
   "metadata": {
    "scrolled": true
   },
   "outputs": [
    {
     "data": {
      "text/html": [
       "<div>\n",
       "<style scoped>\n",
       "    .dataframe tbody tr th:only-of-type {\n",
       "        vertical-align: middle;\n",
       "    }\n",
       "\n",
       "    .dataframe tbody tr th {\n",
       "        vertical-align: top;\n",
       "    }\n",
       "\n",
       "    .dataframe thead th {\n",
       "        text-align: right;\n",
       "    }\n",
       "</style>\n",
       "<table border=\"1\" class=\"dataframe\">\n",
       "  <thead>\n",
       "    <tr style=\"text-align: right;\">\n",
       "      <th></th>\n",
       "      <th>movie_title</th>\n",
       "      <th>director_name</th>\n",
       "      <th>genres</th>\n",
       "      <th>actor_1_name</th>\n",
       "      <th>title_year</th>\n",
       "      <th>num_voted_users</th>\n",
       "      <th>imdb_score</th>\n",
       "      <th>cnt</th>\n",
       "    </tr>\n",
       "  </thead>\n",
       "  <tbody>\n",
       "    <tr>\n",
       "      <th>0</th>\n",
       "      <td>Avatar</td>\n",
       "      <td>James Cameron</td>\n",
       "      <td>Action|Adventure|Fantasy|Sci-Fi</td>\n",
       "      <td>CCH Pounder</td>\n",
       "      <td>2009.0</td>\n",
       "      <td>886204</td>\n",
       "      <td>7.9</td>\n",
       "      <td>7</td>\n",
       "    </tr>\n",
       "    <tr>\n",
       "      <th>1</th>\n",
       "      <td>Pirates of the Caribbean: At World's End</td>\n",
       "      <td>Gore Verbinski</td>\n",
       "      <td>Action|Adventure|Fantasy</td>\n",
       "      <td>Johnny Depp</td>\n",
       "      <td>2007.0</td>\n",
       "      <td>471220</td>\n",
       "      <td>7.1</td>\n",
       "      <td>7</td>\n",
       "    </tr>\n",
       "    <tr>\n",
       "      <th>2</th>\n",
       "      <td>Spectre</td>\n",
       "      <td>Sam Mendes</td>\n",
       "      <td>Action|Adventure|Thriller</td>\n",
       "      <td>Christoph Waltz</td>\n",
       "      <td>2015.0</td>\n",
       "      <td>275868</td>\n",
       "      <td>6.8</td>\n",
       "      <td>8</td>\n",
       "    </tr>\n",
       "    <tr>\n",
       "      <th>3</th>\n",
       "      <td>The Dark Knight Rises</td>\n",
       "      <td>Christopher Nolan</td>\n",
       "      <td>Action|Thriller</td>\n",
       "      <td>Tom Hardy</td>\n",
       "      <td>2012.0</td>\n",
       "      <td>1144337</td>\n",
       "      <td>8.5</td>\n",
       "      <td>8</td>\n",
       "    </tr>\n",
       "    <tr>\n",
       "      <th>4</th>\n",
       "      <td>John Carter</td>\n",
       "      <td>Andrew Stanton</td>\n",
       "      <td>Action|Adventure|Sci-Fi</td>\n",
       "      <td>Daryl Sabara</td>\n",
       "      <td>2012.0</td>\n",
       "      <td>212204</td>\n",
       "      <td>6.6</td>\n",
       "      <td>3</td>\n",
       "    </tr>\n",
       "  </tbody>\n",
       "</table>\n",
       "</div>"
      ],
      "text/plain": [
       "                                 movie_title      director_name  \\\n",
       "0                                    Avatar       James Cameron   \n",
       "1  Pirates of the Caribbean: At World's End      Gore Verbinski   \n",
       "2                                   Spectre          Sam Mendes   \n",
       "3                     The Dark Knight Rises   Christopher Nolan   \n",
       "4                               John Carter      Andrew Stanton   \n",
       "\n",
       "                            genres     actor_1_name  title_year  \\\n",
       "0  Action|Adventure|Fantasy|Sci-Fi      CCH Pounder      2009.0   \n",
       "1         Action|Adventure|Fantasy      Johnny Depp      2007.0   \n",
       "2        Action|Adventure|Thriller  Christoph Waltz      2015.0   \n",
       "3                  Action|Thriller        Tom Hardy      2012.0   \n",
       "4          Action|Adventure|Sci-Fi     Daryl Sabara      2012.0   \n",
       "\n",
       "   num_voted_users  imdb_score  cnt  \n",
       "0           886204         7.9    7  \n",
       "1           471220         7.1    7  \n",
       "2           275868         6.8    8  \n",
       "3          1144337         8.5    8  \n",
       "4           212204         6.6    3  "
      ]
     },
     "execution_count": 55,
     "metadata": {},
     "output_type": "execute_result"
    }
   ],
   "source": [
    "spam = dtr.merge(cnt, on='director_name', how='left')\n",
    "\n",
    "spam.head()"
   ]
  },
  {
   "cell_type": "code",
   "execution_count": 56,
   "metadata": {},
   "outputs": [],
   "source": [
    "spam = spam.loc[spam['cnt'] > 2]"
   ]
  },
  {
   "cell_type": "markdown",
   "metadata": {},
   "source": [
    "Сгруппируем по режиссерам и выведем средний рейтинг:"
   ]
  },
  {
   "cell_type": "code",
   "execution_count": 57,
   "metadata": {
    "scrolled": true
   },
   "outputs": [
    {
     "data": {
      "text/html": [
       "<div>\n",
       "<style scoped>\n",
       "    .dataframe tbody tr th:only-of-type {\n",
       "        vertical-align: middle;\n",
       "    }\n",
       "\n",
       "    .dataframe tbody tr th {\n",
       "        vertical-align: top;\n",
       "    }\n",
       "\n",
       "    .dataframe thead th {\n",
       "        text-align: right;\n",
       "    }\n",
       "</style>\n",
       "<table border=\"1\" class=\"dataframe\">\n",
       "  <thead>\n",
       "    <tr style=\"text-align: right;\">\n",
       "      <th></th>\n",
       "      <th>dtr_score</th>\n",
       "    </tr>\n",
       "    <tr>\n",
       "      <th>director_name</th>\n",
       "      <th></th>\n",
       "    </tr>\n",
       "  </thead>\n",
       "  <tbody>\n",
       "    <tr>\n",
       "      <th>Adam McKay</th>\n",
       "      <td>6.916667</td>\n",
       "    </tr>\n",
       "    <tr>\n",
       "      <th>Adam Shankman</th>\n",
       "      <td>5.962500</td>\n",
       "    </tr>\n",
       "    <tr>\n",
       "      <th>Adrian Lyne</th>\n",
       "      <td>6.400000</td>\n",
       "    </tr>\n",
       "    <tr>\n",
       "      <th>Akiva Schaffer</th>\n",
       "      <td>6.033333</td>\n",
       "    </tr>\n",
       "    <tr>\n",
       "      <th>Alan Parker</th>\n",
       "      <td>7.033333</td>\n",
       "    </tr>\n",
       "  </tbody>\n",
       "</table>\n",
       "</div>"
      ],
      "text/plain": [
       "                dtr_score\n",
       "director_name            \n",
       "Adam McKay       6.916667\n",
       "Adam Shankman    5.962500\n",
       "Adrian Lyne      6.400000\n",
       "Akiva Schaffer   6.033333\n",
       "Alan Parker      7.033333"
      ]
     },
     "execution_count": 57,
     "metadata": {},
     "output_type": "execute_result"
    }
   ],
   "source": [
    "eggs = spam.groupby(by='director_name')[['imdb_score']].mean().rename(columns={\"imdb_score\": \"dtr_score\"})\n",
    "\n",
    "eggs.head()"
   ]
  },
  {
   "cell_type": "markdown",
   "metadata": {},
   "source": [
    "Построим *Топ-15*:"
   ]
  },
  {
   "cell_type": "code",
   "execution_count": 58,
   "metadata": {},
   "outputs": [
    {
     "data": {
      "image/png": "[encoded data removed]",
      "text/plain": [
       "<Figure size 576x432 with 1 Axes>"
      ]
     },
     "metadata": {
      "needs_background": "light"
     },
     "output_type": "display_data"
    }
   ],
   "source": [
    "eggs.sort_values('dtr_score', ascending=False).head(15)['dtr_score'].sort_values().plot('barh', figsize=(8,6));"
   ]
  },
  {
   "cell_type": "markdown",
   "metadata": {},
   "source": [
    "Соединим с основным и предскажем:"
   ]
  },
  {
   "cell_type": "code",
   "execution_count": 59,
   "metadata": {},
   "outputs": [
    {
     "data": {
      "text/html": [
       "<div>\n",
       "<style scoped>\n",
       "    .dataframe tbody tr th:only-of-type {\n",
       "        vertical-align: middle;\n",
       "    }\n",
       "\n",
       "    .dataframe tbody tr th {\n",
       "        vertical-align: top;\n",
       "    }\n",
       "\n",
       "    .dataframe thead th {\n",
       "        text-align: right;\n",
       "    }\n",
       "</style>\n",
       "<table border=\"1\" class=\"dataframe\">\n",
       "  <thead>\n",
       "    <tr style=\"text-align: right;\">\n",
       "      <th></th>\n",
       "      <th>movie_title</th>\n",
       "      <th>director_name</th>\n",
       "      <th>genres</th>\n",
       "      <th>actor_1_name</th>\n",
       "      <th>title_year</th>\n",
       "      <th>num_voted_users</th>\n",
       "      <th>imdb_score</th>\n",
       "      <th>cnt</th>\n",
       "      <th>dtr_score</th>\n",
       "    </tr>\n",
       "  </thead>\n",
       "  <tbody>\n",
       "    <tr>\n",
       "      <th>0</th>\n",
       "      <td>Avatar</td>\n",
       "      <td>James Cameron</td>\n",
       "      <td>Action|Adventure|Fantasy|Sci-Fi</td>\n",
       "      <td>CCH Pounder</td>\n",
       "      <td>2009.0</td>\n",
       "      <td>886204</td>\n",
       "      <td>7.9</td>\n",
       "      <td>7</td>\n",
       "      <td>7.914286</td>\n",
       "    </tr>\n",
       "    <tr>\n",
       "      <th>1</th>\n",
       "      <td>Pirates of the Caribbean: At World's End</td>\n",
       "      <td>Gore Verbinski</td>\n",
       "      <td>Action|Adventure|Fantasy</td>\n",
       "      <td>Johnny Depp</td>\n",
       "      <td>2007.0</td>\n",
       "      <td>471220</td>\n",
       "      <td>7.1</td>\n",
       "      <td>7</td>\n",
       "      <td>6.985714</td>\n",
       "    </tr>\n",
       "    <tr>\n",
       "      <th>2</th>\n",
       "      <td>Spectre</td>\n",
       "      <td>Sam Mendes</td>\n",
       "      <td>Action|Adventure|Thriller</td>\n",
       "      <td>Christoph Waltz</td>\n",
       "      <td>2015.0</td>\n",
       "      <td>275868</td>\n",
       "      <td>6.8</td>\n",
       "      <td>8</td>\n",
       "      <td>7.500000</td>\n",
       "    </tr>\n",
       "    <tr>\n",
       "      <th>3</th>\n",
       "      <td>The Dark Knight Rises</td>\n",
       "      <td>Christopher Nolan</td>\n",
       "      <td>Action|Thriller</td>\n",
       "      <td>Tom Hardy</td>\n",
       "      <td>2012.0</td>\n",
       "      <td>1144337</td>\n",
       "      <td>8.5</td>\n",
       "      <td>8</td>\n",
       "      <td>8.425000</td>\n",
       "    </tr>\n",
       "    <tr>\n",
       "      <th>4</th>\n",
       "      <td>John Carter</td>\n",
       "      <td>Andrew Stanton</td>\n",
       "      <td>Action|Adventure|Sci-Fi</td>\n",
       "      <td>Daryl Sabara</td>\n",
       "      <td>2012.0</td>\n",
       "      <td>212204</td>\n",
       "      <td>6.6</td>\n",
       "      <td>3</td>\n",
       "      <td>7.733333</td>\n",
       "    </tr>\n",
       "  </tbody>\n",
       "</table>\n",
       "</div>"
      ],
      "text/plain": [
       "                                 movie_title      director_name  \\\n",
       "0                                    Avatar       James Cameron   \n",
       "1  Pirates of the Caribbean: At World's End      Gore Verbinski   \n",
       "2                                   Spectre          Sam Mendes   \n",
       "3                     The Dark Knight Rises   Christopher Nolan   \n",
       "4                               John Carter      Andrew Stanton   \n",
       "\n",
       "                            genres     actor_1_name  title_year  \\\n",
       "0  Action|Adventure|Fantasy|Sci-Fi      CCH Pounder      2009.0   \n",
       "1         Action|Adventure|Fantasy      Johnny Depp      2007.0   \n",
       "2        Action|Adventure|Thriller  Christoph Waltz      2015.0   \n",
       "3                  Action|Thriller        Tom Hardy      2012.0   \n",
       "4          Action|Adventure|Sci-Fi     Daryl Sabara      2012.0   \n",
       "\n",
       "   num_voted_users  imdb_score  cnt  dtr_score  \n",
       "0           886204         7.9    7   7.914286  \n",
       "1           471220         7.1    7   6.985714  \n",
       "2           275868         6.8    8   7.500000  \n",
       "3          1144337         8.5    8   8.425000  \n",
       "4           212204         6.6    3   7.733333  "
      ]
     },
     "execution_count": 59,
     "metadata": {},
     "output_type": "execute_result"
    }
   ],
   "source": [
    "spam = spam.merge(eggs, on='director_name', how='left')\n",
    "\n",
    "spam.head()"
   ]
  },
  {
   "cell_type": "markdown",
   "metadata": {},
   "source": [
    "Посмотрим на размер получившейся выборки:"
   ]
  },
  {
   "cell_type": "code",
   "execution_count": 60,
   "metadata": {},
   "outputs": [
    {
     "data": {
      "text/plain": [
       "2661"
      ]
     },
     "execution_count": 60,
     "metadata": {},
     "output_type": "execute_result"
    }
   ],
   "source": [
    "spam.movie_title.index.shape[0]"
   ]
  },
  {
   "cell_type": "code",
   "execution_count": 61,
   "metadata": {},
   "outputs": [
    {
     "data": {
      "image/png": "[encoded data removed]",
      "text/plain": [
       "<Figure size 432x288 with 1 Axes>"
      ]
     },
     "metadata": {
      "needs_background": "light"
     },
     "output_type": "display_data"
    },
    {
     "name": "stdout",
     "output_type": "stream",
     "text": [
      "b0 = 3.323454454654715\n",
      "b1 = 0.49819492369204016\n",
      "R2 = 0.49819492369215324\n"
     ]
    }
   ],
   "source": [
    "deter(spam['imdb_score'], spam['dtr_score'], x_label='imdb_score', y_label='средний рейтинг по режиссеру')"
   ]
  },
  {
   "cell_type": "markdown",
   "metadata": {},
   "source": [
    "Зависимость есть, но тоже не самая явная."
   ]
  },
  {
   "cell_type": "markdown",
   "metadata": {},
   "source": [
    "Напишем функцию, которая делает все предыдущие шаги и передадим ей актеров:"
   ]
  },
  {
   "cell_type": "code",
   "execution_count": 62,
   "metadata": {},
   "outputs": [],
   "source": [
    "# homo sapiens score\n",
    "def homo_score(df_source, homo='director_name', year=1890):\n",
    "    # убираем документальные фильмы и наблюдения с пропущенными значениями\n",
    "    df = df_source[['movie_title', homo, 'genres', 'title_year',  \n",
    "        'imdb_score']].dropna().loc[(~df_source['genres'].str.contains('Docum', case=False, regex=False, na=False)) \n",
    "                                    & (df_source['title_year'] > year)]\n",
    "    \n",
    "    # считаем количество фильмов в которых участвовал человек и убираем те, где меньше двух\n",
    "    cnt = df.groupby(by=homo)[[homo]].count().rename(columns={homo: 'cnt'})\n",
    "    spam = df.merge(cnt, on=homo, how='left')    \n",
    "    spam = spam.loc[spam['cnt'] > 2]\n",
    "\n",
    "    # считаем средний рейтинг по человеку и выводим Топ-15\n",
    "    eggs = spam.groupby(by=homo)[['imdb_score']].mean().rename(columns={'imdb_score': 'mean_score'})    \n",
    "    eggs.sort_values('mean_score', ascending=False).head(10)['mean_score'].sort_values().plot('barh', figsize=(8,4))\n",
    "    \n",
    "    # соединяем с основной выборкой \n",
    "    spam = spam.merge(eggs, on=homo, how='left')\n",
    "    \n",
    "    # выводим \n",
    "\n",
    "    deter(spam['imdb_score'], spam['mean_score'], x_label='imdb_score', y_label='средний рейтинг по человеку')"
   ]
  },
  {
   "cell_type": "markdown",
   "metadata": {},
   "source": [
    "Актер первого плана:"
   ]
  },
  {
   "cell_type": "code",
   "execution_count": 63,
   "metadata": {},
   "outputs": [
    {
     "data": {
      "image/png": "[encoded data removed]",
      "text/plain": [
       "<Figure size 576x288 with 1 Axes>"
      ]
     },
     "metadata": {
      "needs_background": "light"
     },
     "output_type": "display_data"
    },
    {
     "data": {
      "image/png": "[encoded data removed]",
      "text/plain": [
       "<Figure size 432x288 with 1 Axes>"
      ]
     },
     "metadata": {
      "needs_background": "light"
     },
     "output_type": "display_data"
    },
    {
     "name": "stdout",
     "output_type": "stream",
     "text": [
      "b0 = 4.500013757164682\n",
      "b1 = 0.30597743080935114\n",
      "R2 = 0.3059774308093517\n"
     ]
    }
   ],
   "source": [
    "homo_score(data, homo='actor_1_name')"
   ]
  },
  {
   "cell_type": "markdown",
   "metadata": {},
   "source": [
    "Посмотрим более свежие фильмы:"
   ]
  },
  {
   "cell_type": "code",
   "execution_count": 64,
   "metadata": {},
   "outputs": [
    {
     "data": {
      "image/png": "[encoded data removed]",
      "text/plain": [
       "<Figure size 576x288 with 1 Axes>"
      ]
     },
     "metadata": {
      "needs_background": "light"
     },
     "output_type": "display_data"
    },
    {
     "data": {
      "image/png": "[encoded data removed]",
      "text/plain": [
       "<Figure size 432x288 with 1 Axes>"
      ]
     },
     "metadata": {
      "needs_background": "light"
     },
     "output_type": "display_data"
    },
    {
     "name": "stdout",
     "output_type": "stream",
     "text": [
      "b0 = 4.422917222837283\n",
      "b1 = 0.3128192068018889\n",
      "R2 = 0.31281920680180575\n"
     ]
    }
   ],
   "source": [
    "homo_score(data, homo='actor_1_name', year=1990)"
   ]
  },
  {
   "cell_type": "markdown",
   "metadata": {},
   "source": [
    "Актер второго плана:"
   ]
  },
  {
   "cell_type": "code",
   "execution_count": 65,
   "metadata": {},
   "outputs": [
    {
     "data": {
      "image/png": "[encoded data removed]",
      "text/plain": [
       "<Figure size 576x288 with 1 Axes>"
      ]
     },
     "metadata": {
      "needs_background": "light"
     },
     "output_type": "display_data"
    },
    {
     "data": {
      "image/png": "[encoded data removed]",
      "text/plain": [
       "<Figure size 432x288 with 1 Axes>"
      ]
     },
     "metadata": {
      "needs_background": "light"
     },
     "output_type": "display_data"
    },
    {
     "name": "stdout",
     "output_type": "stream",
     "text": [
      "b0 = 4.10360456596583\n",
      "b1 = 0.3616897981086239\n",
      "R2 = 0.3616897981086766\n"
     ]
    }
   ],
   "source": [
    "homo_score(data, homo='actor_2_name', year=1990)"
   ]
  },
  {
   "cell_type": "markdown",
   "metadata": {},
   "source": [
    "Актер третьего плана:"
   ]
  },
  {
   "cell_type": "code",
   "execution_count": 66,
   "metadata": {},
   "outputs": [
    {
     "data": {
      "image/png": "[encoded data removed]",
      "text/plain": [
       "<Figure size 576x288 with 1 Axes>"
      ]
     },
     "metadata": {
      "needs_background": "light"
     },
     "output_type": "display_data"
    },
    {
     "data": {
      "image/png": "[encoded data removed]",
      "text/plain": [
       "<Figure size 432x288 with 1 Axes>"
      ]
     },
     "metadata": {
      "needs_background": "light"
     },
     "output_type": "display_data"
    },
    {
     "name": "stdout",
     "output_type": "stream",
     "text": [
      "b0 = 4.120581869325816\n",
      "b1 = 0.35443216060823013\n",
      "R2 = 0.35443216060826815\n"
     ]
    }
   ],
   "source": [
    "homo_score(data, homo='actor_3_name', year=1990)"
   ]
  },
  {
   "cell_type": "markdown",
   "metadata": {},
   "source": [
    "#### Вывод: \n",
    "По режиссерам корреляция больше, чем по актерам."
   ]
  }
 ],
 "metadata": {
  "kernelspec": {
   "display_name": "Python 3",
   "language": "python",
   "name": "python3"
  },
  "language_info": {
   "codemirror_mode": {
    "name": "ipython",
    "version": 3
   },
   "file_extension": ".py",
   "mimetype": "text/x-python",
   "name": "python",
   "nbconvert_exporter": "python",
   "pygments_lexer": "ipython3",
   "version": "3.7.1"
  }
 },
 "nbformat": 4,
 "nbformat_minor": 2
}
