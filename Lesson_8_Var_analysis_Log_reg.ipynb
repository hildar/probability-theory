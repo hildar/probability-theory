{
 "cells": [
  {
   "cell_type": "markdown",
   "metadata": {},
   "source": [
    "# Урок 8. Домашнее задание.\n",
    "\n",
    "## Дисперсионный анализ. Факторный анализ. Логистическая регрессия"
   ]
  },
  {
   "cell_type": "markdown",
   "metadata": {},
   "source": [
    "### Задача 8.1\n",
    "\n",
    "Провести дисперсионный анализ для определения того, есть ли различия среднего роста среди взрослых футболистов, хоккеистов и штангистов. Даны значения роста в трех группах случайно выбранных спортсменов: \n",
    "```\n",
    "football_players = [173, 175, 180, 178, 177, 185, 183, 182]\n",
    "hockey_players = [177, 179, 180, 188, 177, 172, 171, 184, 180]\n",
    "lifters = [172, 173, 169, 177, 166, 180, 178, 177, 172, 166, 170]\n",
    "```"
   ]
  },
  {
   "cell_type": "markdown",
   "metadata": {},
   "source": [
    "#### Решение:\n",
    "\n",
    "Примем за гипотезу $H_0$ то, что различия статистически не значимы (т.е. примерно одинаковы). Для проверки этой гипотезы воспользуемся однофакторным дисперсионным анализом."
   ]
  },
  {
   "cell_type": "code",
   "execution_count": 1,
   "metadata": {},
   "outputs": [],
   "source": [
    "import numpy as np\n",
    "import pandas as pd\n",
    "from scipy import stats"
   ]
  },
  {
   "cell_type": "code",
   "execution_count": 2,
   "metadata": {},
   "outputs": [],
   "source": [
    "y1 = np.array([173, 175, 180, 178, 177, 185, 183, 182], dtype=np.float64)\n",
    "y2 = np.array([177, 179, 180, 188, 177, 172, 171, 184, 180], dtype=np.float64)\n",
    "y3 = np.array([172, 173, 169, 177, 166, 180, 178, 177, 172, 166, 170], dtype=np.float64)"
   ]
  },
  {
   "cell_type": "code",
   "execution_count": 3,
   "metadata": {},
   "outputs": [],
   "source": [
    "n1 = y1.shape[0]\n",
    "n2 = y2.shape[0]\n",
    "n3 = y3.shape[0]"
   ]
  },
  {
   "cell_type": "markdown",
   "metadata": {},
   "source": [
    "Посмотрим выборочные средние по каждой группе"
   ]
  },
  {
   "cell_type": "code",
   "execution_count": 4,
   "metadata": {},
   "outputs": [
    {
     "data": {
      "text/plain": [
       "(179.125, 178.66666666666666, 172.72727272727272)"
      ]
     },
     "execution_count": 4,
     "metadata": {},
     "output_type": "execute_result"
    }
   ],
   "source": [
    "y1_mean = y1.mean()\n",
    "y2_mean = y2.mean()\n",
    "y3_mean = y3.mean()\n",
    "\n",
    "y1_mean, y2_mean, y3_mean"
   ]
  },
  {
   "cell_type": "markdown",
   "metadata": {},
   "source": [
    "Соберём все значения среднего роста в один массив:"
   ]
  },
  {
   "cell_type": "code",
   "execution_count": 5,
   "metadata": {},
   "outputs": [
    {
     "name": "stdout",
     "output_type": "stream",
     "text": [
      "[173. 175. 180. 178. 177. 185. 183. 182. 177. 179. 180. 188. 177. 172.\n",
      " 171. 184. 180. 172. 173. 169. 177. 166. 180. 178. 177. 172. 166. 170.]\n"
     ]
    }
   ],
   "source": [
    "y = np.concatenate([y1, y2, y3])\n",
    "\n",
    "print(y)"
   ]
  },
  {
   "cell_type": "code",
   "execution_count": 6,
   "metadata": {},
   "outputs": [
    {
     "data": {
      "text/plain": [
       "176.46428571428572"
      ]
     },
     "execution_count": 6,
     "metadata": {},
     "output_type": "execute_result"
    }
   ],
   "source": [
    "y_mean = y.mean()\n",
    "y_mean"
   ]
  },
  {
   "cell_type": "markdown",
   "metadata": {},
   "source": [
    "Найдём сумму квадратов отклонений средних групповых значений от общего среднего значения $\\overline{y}$:\n",
    "\n",
    "$$S_F^2 = \\displaystyle\\sum_{i=1}^k (\\overline{y}_i - \\overline{y})^2 n_i$$\n",
    "\n",
    "и остаточную сумму квадратов отклонений:\n",
    "\n",
    "$$S_{res}^{2} = \\displaystyle\\sum_{i=1}^k \\displaystyle\\sum_{j=1}^{n_i} (y_{ij} - \\overline{y}_i)^2.$$"
   ]
  },
  {
   "cell_type": "code",
   "execution_count": 7,
   "metadata": {},
   "outputs": [
    {
     "data": {
      "text/plain": [
       "(253.9074675324678, 577.0568181818182)"
      ]
     },
     "execution_count": 7,
     "metadata": {},
     "output_type": "execute_result"
    }
   ],
   "source": [
    "S2_F = n1 * (y1_mean - y_mean) ** 2 + n2 * (y2_mean - y_mean) ** 2 + n3 * (y3_mean - y_mean) ** 2\n",
    "\n",
    "S2_res = ((y1 - y1_mean) ** 2).sum() + ((y2 - y2_mean) ** 2).sum() + ((y3 - y3_mean) ** 2).sum()\n",
    "\n",
    "S2_F, S2_res"
   ]
  },
  {
   "cell_type": "markdown",
   "metadata": {},
   "source": [
    "Запишем несмещенные оценки дисперсий:\n",
    "\n",
    "$$\\sigma_F^2 = \\dfrac{S_F^2}{k - 1}, \\: \\sigma_{res}^2 = \\dfrac{S_{res}^2}{n - k}.$$"
   ]
  },
  {
   "cell_type": "code",
   "execution_count": 8,
   "metadata": {},
   "outputs": [
    {
     "data": {
      "text/plain": [
       "(126.9537337662339, 23.08227272727273)"
      ]
     },
     "execution_count": 8,
     "metadata": {},
     "output_type": "execute_result"
    }
   ],
   "source": [
    "k = 3\n",
    "n = n1 + n2 + n3\n",
    "\n",
    "k1 = k - 1\n",
    "k2 = n - k\n",
    "\n",
    "sigma2_F = S2_F / k1\n",
    "sigma2_res = S2_res / k2\n",
    "\n",
    "sigma2_F, sigma2_res"
   ]
  },
  {
   "cell_type": "markdown",
   "metadata": {},
   "source": [
    "Итак, значение статистики $T$:\n",
    "\n",
    "$$T = \\dfrac{\\sigma_F^2}{\\sigma_{res}^2}.$$"
   ]
  },
  {
   "cell_type": "code",
   "execution_count": 9,
   "metadata": {},
   "outputs": [
    {
     "data": {
      "text/plain": [
       "5.500053450812598"
      ]
     },
     "execution_count": 9,
     "metadata": {},
     "output_type": "execute_result"
    }
   ],
   "source": [
    "T = sigma2_F / sigma2_res\n",
    "T"
   ]
  },
  {
   "cell_type": "markdown",
   "metadata": {},
   "source": [
    "Зафиксируем уровень значимости $\\alpha = 0.05$. Для него найдём критическое значение $F_{crit}$:"
   ]
  },
  {
   "cell_type": "code",
   "execution_count": 10,
   "metadata": {},
   "outputs": [
    {
     "data": {
      "text/plain": [
       "3.3851899614491687"
      ]
     },
     "execution_count": 10,
     "metadata": {},
     "output_type": "execute_result"
    }
   ],
   "source": [
    "alpha = 0.05\n",
    "\n",
    "F_crit = stats.f.ppf(1 - alpha, k1, k2)\n",
    "F_crit"
   ]
  },
  {
   "cell_type": "markdown",
   "metadata": {},
   "source": [
    "Видим, что $T > F_{crit}$, поэтому заключаем, что отличие среднего роста среди взрослых футболистов, хоккеистов и штангистов действительно является статистически значимым, гипотеза $H_0$ отвергается."
   ]
  },
  {
   "cell_type": "code",
   "execution_count": null,
   "metadata": {},
   "outputs": [],
   "source": []
  }
 ],
 "metadata": {
  "kernelspec": {
   "display_name": "Python 3",
   "language": "python",
   "name": "python3"
  },
  "language_info": {
   "codemirror_mode": {
    "name": "ipython",
    "version": 3
   },
   "file_extension": ".py",
   "mimetype": "text/x-python",
   "name": "python",
   "nbconvert_exporter": "python",
   "pygments_lexer": "ipython3",
   "version": "3.7.1"
  }
 },
 "nbformat": 4,
 "nbformat_minor": 2
}
